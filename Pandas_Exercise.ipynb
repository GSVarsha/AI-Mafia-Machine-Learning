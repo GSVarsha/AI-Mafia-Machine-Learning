{
  "nbformat": 4,
  "nbformat_minor": 0,
  "metadata": {
    "kernelspec": {
      "display_name": "Python 3",
      "language": "python",
      "name": "python3"
    },
    "language_info": {
      "codemirror_mode": {
        "name": "ipython",
        "version": 3
      },
      "file_extension": ".py",
      "mimetype": "text/x-python",
      "name": "python",
      "nbconvert_exporter": "python",
      "pygments_lexer": "ipython3",
      "version": "3.7.3"
    },
    "colab": {
      "name": "Copy of Pandas_Exercise.ipynb",
      "provenance": []
    }
  },
  "cells": [
    {
      "cell_type": "markdown",
      "metadata": {
        "id": "qQa6FNR8GnEm"
      },
      "source": [
        "# <center>Introduction to Pandas</center>\n",
        "\n",
        "![](https://pandas.pydata.org/_static/pandas_logo.png)\n",
        "\n",
        "\n",
        "## Installation\n",
        "\n",
        "Simply,\n",
        "```\n",
        "pip install pandas\n",
        "```\n",
        "\n",
        "\n",
        "## Reading data from a CSV file\n",
        "\n",
        "You can read data from a CSV file using the ``read_csv`` function. By default, it assumes that the fields are comma-separated."
      ]
    },
    {
      "cell_type": "code",
      "metadata": {
        "id": "0wucFw2mHFAj",
        "colab": {
          "base_uri": "https://localhost:8080/"
        },
        "outputId": "0615a9c7-6b1b-4c5e-fc19-2bdba558cc2a"
      },
      "source": [
        "from google.colab import drive\n",
        "drive.mount('/content/drive')"
      ],
      "execution_count": 81,
      "outputs": [
        {
          "output_type": "stream",
          "text": [
            "Drive already mounted at /content/drive; to attempt to forcibly remount, call drive.mount(\"/content/drive\", force_remount=True).\n"
          ],
          "name": "stdout"
        }
      ]
    },
    {
      "cell_type": "code",
      "metadata": {
        "id": "BL8jtBHjGnE3"
      },
      "source": [
        "import pandas as pd"
      ],
      "execution_count": 82,
      "outputs": []
    },
    {
      "cell_type": "markdown",
      "metadata": {
        "id": "fDeGoB3iGnE5"
      },
      "source": [
        ">The `imdb.csv` dataset contains Highest Rated IMDb \"Top 1000\" Titles."
      ]
    },
    {
      "cell_type": "code",
      "metadata": {
        "id": "EzAr0YFPGnE5"
      },
      "source": [
        "# load imdb dataset as pandas dataframe\r\n",
        "df = pd.read_csv('/content/drive/MyDrive/ML: Codes and Assignments/Week 1 - Assignment/Pandas Exercise/data/imdb_1000.csv')"
      ],
      "execution_count": 145,
      "outputs": []
    },
    {
      "cell_type": "code",
      "metadata": {
        "id": "DzmQyMWCGnE6",
        "colab": {
          "base_uri": "https://localhost:8080/",
          "height": 204
        },
        "outputId": "1d439b69-f0ba-4dc5-8a24-fb0aa803bea7"
      },
      "source": [
        "# show first 5 rows of imdb_df\r\n",
        "df.head(5)"
      ],
      "execution_count": 84,
      "outputs": [
        {
          "output_type": "execute_result",
          "data": {
            "text/html": [
              "<div>\n",
              "<style scoped>\n",
              "    .dataframe tbody tr th:only-of-type {\n",
              "        vertical-align: middle;\n",
              "    }\n",
              "\n",
              "    .dataframe tbody tr th {\n",
              "        vertical-align: top;\n",
              "    }\n",
              "\n",
              "    .dataframe thead th {\n",
              "        text-align: right;\n",
              "    }\n",
              "</style>\n",
              "<table border=\"1\" class=\"dataframe\">\n",
              "  <thead>\n",
              "    <tr style=\"text-align: right;\">\n",
              "      <th></th>\n",
              "      <th>star_rating</th>\n",
              "      <th>title</th>\n",
              "      <th>content_rating</th>\n",
              "      <th>genre</th>\n",
              "      <th>duration</th>\n",
              "      <th>actors_list</th>\n",
              "    </tr>\n",
              "  </thead>\n",
              "  <tbody>\n",
              "    <tr>\n",
              "      <th>0</th>\n",
              "      <td>9.3</td>\n",
              "      <td>The Shawshank Redemption</td>\n",
              "      <td>R</td>\n",
              "      <td>Crime</td>\n",
              "      <td>142</td>\n",
              "      <td>[u'Tim Robbins', u'Morgan Freeman', u'Bob Gunt...</td>\n",
              "    </tr>\n",
              "    <tr>\n",
              "      <th>1</th>\n",
              "      <td>9.2</td>\n",
              "      <td>The Godfather</td>\n",
              "      <td>R</td>\n",
              "      <td>Crime</td>\n",
              "      <td>175</td>\n",
              "      <td>[u'Marlon Brando', u'Al Pacino', u'James Caan']</td>\n",
              "    </tr>\n",
              "    <tr>\n",
              "      <th>2</th>\n",
              "      <td>9.1</td>\n",
              "      <td>The Godfather: Part II</td>\n",
              "      <td>R</td>\n",
              "      <td>Crime</td>\n",
              "      <td>200</td>\n",
              "      <td>[u'Al Pacino', u'Robert De Niro', u'Robert Duv...</td>\n",
              "    </tr>\n",
              "    <tr>\n",
              "      <th>3</th>\n",
              "      <td>9.0</td>\n",
              "      <td>The Dark Knight</td>\n",
              "      <td>PG-13</td>\n",
              "      <td>Action</td>\n",
              "      <td>152</td>\n",
              "      <td>[u'Christian Bale', u'Heath Ledger', u'Aaron E...</td>\n",
              "    </tr>\n",
              "    <tr>\n",
              "      <th>4</th>\n",
              "      <td>8.9</td>\n",
              "      <td>Pulp Fiction</td>\n",
              "      <td>R</td>\n",
              "      <td>Crime</td>\n",
              "      <td>154</td>\n",
              "      <td>[u'John Travolta', u'Uma Thurman', u'Samuel L....</td>\n",
              "    </tr>\n",
              "  </tbody>\n",
              "</table>\n",
              "</div>"
            ],
            "text/plain": [
              "   star_rating  ...                                        actors_list\n",
              "0          9.3  ...  [u'Tim Robbins', u'Morgan Freeman', u'Bob Gunt...\n",
              "1          9.2  ...    [u'Marlon Brando', u'Al Pacino', u'James Caan']\n",
              "2          9.1  ...  [u'Al Pacino', u'Robert De Niro', u'Robert Duv...\n",
              "3          9.0  ...  [u'Christian Bale', u'Heath Ledger', u'Aaron E...\n",
              "4          8.9  ...  [u'John Travolta', u'Uma Thurman', u'Samuel L....\n",
              "\n",
              "[5 rows x 6 columns]"
            ]
          },
          "metadata": {
            "tags": []
          },
          "execution_count": 84
        }
      ]
    },
    {
      "cell_type": "markdown",
      "metadata": {
        "id": "9yxN9zwgGnE6"
      },
      "source": [
        ">The `bikes.csv` dataset contains information about the number of bicycles that used certain bicycle lanes in Montreal in the year 2012."
      ]
    },
    {
      "cell_type": "code",
      "metadata": {
        "id": "vZ_ATpwvGnE8"
      },
      "source": [
        "# load bikes dataset as pandas dataframe\r\n",
        "df1 = pd.read_csv('/content/drive/MyDrive/ML: Codes and Assignments/Week 1 - Assignment/Pandas Exercise/data/bikes.csv', sep = ';', parse_dates= ['Date'], dayfirst=True, index_col=['Date'])"
      ],
      "execution_count": 161,
      "outputs": []
    },
    {
      "cell_type": "code",
      "metadata": {
        "id": "jWVIHi3OGnE9",
        "colab": {
          "base_uri": "https://localhost:8080/",
          "height": 173
        },
        "outputId": "aba8cefe-624f-4b94-fc07-4e2270a66018"
      },
      "source": [
        "# show first 3 rows of bikes_df\r\n",
        "df1.head(3)"
      ],
      "execution_count": 164,
      "outputs": [
        {
          "output_type": "execute_result",
          "data": {
            "text/html": [
              "<div>\n",
              "<style scoped>\n",
              "    .dataframe tbody tr th:only-of-type {\n",
              "        vertical-align: middle;\n",
              "    }\n",
              "\n",
              "    .dataframe tbody tr th {\n",
              "        vertical-align: top;\n",
              "    }\n",
              "\n",
              "    .dataframe thead th {\n",
              "        text-align: right;\n",
              "    }\n",
              "</style>\n",
              "<table border=\"1\" class=\"dataframe\">\n",
              "  <thead>\n",
              "    <tr style=\"text-align: right;\">\n",
              "      <th></th>\n",
              "      <th>Rachel / Papineau</th>\n",
              "      <th>Berri1</th>\n",
              "      <th>Maisonneuve_2</th>\n",
              "      <th>Maisonneuve_1</th>\n",
              "      <th>Brébeuf</th>\n",
              "      <th>Parc</th>\n",
              "      <th>PierDup</th>\n",
              "      <th>CSC (Côte Sainte-Catherine)</th>\n",
              "      <th>Pont_Jacques_Cartier</th>\n",
              "    </tr>\n",
              "    <tr>\n",
              "      <th>Date</th>\n",
              "      <th></th>\n",
              "      <th></th>\n",
              "      <th></th>\n",
              "      <th></th>\n",
              "      <th></th>\n",
              "      <th></th>\n",
              "      <th></th>\n",
              "      <th></th>\n",
              "      <th></th>\n",
              "    </tr>\n",
              "  </thead>\n",
              "  <tbody>\n",
              "    <tr>\n",
              "      <th>2012-01-01</th>\n",
              "      <td>16</td>\n",
              "      <td>35</td>\n",
              "      <td>51</td>\n",
              "      <td>38</td>\n",
              "      <td>5.0</td>\n",
              "      <td>26</td>\n",
              "      <td>10</td>\n",
              "      <td>0</td>\n",
              "      <td>27.0</td>\n",
              "    </tr>\n",
              "    <tr>\n",
              "      <th>2012-01-02</th>\n",
              "      <td>43</td>\n",
              "      <td>83</td>\n",
              "      <td>153</td>\n",
              "      <td>68</td>\n",
              "      <td>11.0</td>\n",
              "      <td>53</td>\n",
              "      <td>6</td>\n",
              "      <td>1</td>\n",
              "      <td>21.0</td>\n",
              "    </tr>\n",
              "    <tr>\n",
              "      <th>2012-01-03</th>\n",
              "      <td>58</td>\n",
              "      <td>135</td>\n",
              "      <td>248</td>\n",
              "      <td>104</td>\n",
              "      <td>2.0</td>\n",
              "      <td>89</td>\n",
              "      <td>3</td>\n",
              "      <td>2</td>\n",
              "      <td>15.0</td>\n",
              "    </tr>\n",
              "  </tbody>\n",
              "</table>\n",
              "</div>"
            ],
            "text/plain": [
              "            Rachel / Papineau  ...  Pont_Jacques_Cartier\n",
              "Date                           ...                      \n",
              "2012-01-01                 16  ...                  27.0\n",
              "2012-01-02                 43  ...                  21.0\n",
              "2012-01-03                 58  ...                  15.0\n",
              "\n",
              "[3 rows x 9 columns]"
            ]
          },
          "metadata": {
            "tags": []
          },
          "execution_count": 164
        }
      ]
    },
    {
      "cell_type": "markdown",
      "metadata": {
        "id": "YlvH8S2VGnE-"
      },
      "source": [
        "## Selecting columns\n",
        "\n",
        "When you read a CSV, you get a kind of object called a DataFrame, which is made up of rows and columns. You get columns out of a DataFrame the same way you get elements out of a dictionary."
      ]
    },
    {
      "cell_type": "code",
      "metadata": {
        "id": "bz6AObeAGnE_",
        "colab": {
          "base_uri": "https://localhost:8080/"
        },
        "outputId": "d0388e6e-2847-41e0-8591-2350d50250a3"
      },
      "source": [
        "# list columns of imdb_df\r\n",
        "print(*df.columns, sep = ', ')"
      ],
      "execution_count": 87,
      "outputs": [
        {
          "output_type": "stream",
          "text": [
            "star_rating, title, content_rating, genre, duration, actors_list\n"
          ],
          "name": "stdout"
        }
      ]
    },
    {
      "cell_type": "code",
      "metadata": {
        "id": "fz6xMUcjGnFB",
        "colab": {
          "base_uri": "https://localhost:8080/"
        },
        "outputId": "f280d47f-419c-499a-c213-06707e8ba94c"
      },
      "source": [
        "# what are the datatypes of values in columns\r\n",
        "df.dtypes"
      ],
      "execution_count": 88,
      "outputs": [
        {
          "output_type": "execute_result",
          "data": {
            "text/plain": [
              "star_rating       float64\n",
              "title              object\n",
              "content_rating     object\n",
              "genre              object\n",
              "duration            int64\n",
              "actors_list        object\n",
              "dtype: object"
            ]
          },
          "metadata": {
            "tags": []
          },
          "execution_count": 88
        }
      ]
    },
    {
      "cell_type": "code",
      "metadata": {
        "id": "1_9XTalLGnFD",
        "colab": {
          "base_uri": "https://localhost:8080/",
          "height": 204
        },
        "outputId": "69f6d883-8776-4989-8afd-7c3e1a7ec4c6"
      },
      "source": [
        "# list first 5 movie titles\r\n",
        "df['title'].head(5).reset_index()"
      ],
      "execution_count": 89,
      "outputs": [
        {
          "output_type": "execute_result",
          "data": {
            "text/html": [
              "<div>\n",
              "<style scoped>\n",
              "    .dataframe tbody tr th:only-of-type {\n",
              "        vertical-align: middle;\n",
              "    }\n",
              "\n",
              "    .dataframe tbody tr th {\n",
              "        vertical-align: top;\n",
              "    }\n",
              "\n",
              "    .dataframe thead th {\n",
              "        text-align: right;\n",
              "    }\n",
              "</style>\n",
              "<table border=\"1\" class=\"dataframe\">\n",
              "  <thead>\n",
              "    <tr style=\"text-align: right;\">\n",
              "      <th></th>\n",
              "      <th>index</th>\n",
              "      <th>title</th>\n",
              "    </tr>\n",
              "  </thead>\n",
              "  <tbody>\n",
              "    <tr>\n",
              "      <th>0</th>\n",
              "      <td>0</td>\n",
              "      <td>The Shawshank Redemption</td>\n",
              "    </tr>\n",
              "    <tr>\n",
              "      <th>1</th>\n",
              "      <td>1</td>\n",
              "      <td>The Godfather</td>\n",
              "    </tr>\n",
              "    <tr>\n",
              "      <th>2</th>\n",
              "      <td>2</td>\n",
              "      <td>The Godfather: Part II</td>\n",
              "    </tr>\n",
              "    <tr>\n",
              "      <th>3</th>\n",
              "      <td>3</td>\n",
              "      <td>The Dark Knight</td>\n",
              "    </tr>\n",
              "    <tr>\n",
              "      <th>4</th>\n",
              "      <td>4</td>\n",
              "      <td>Pulp Fiction</td>\n",
              "    </tr>\n",
              "  </tbody>\n",
              "</table>\n",
              "</div>"
            ],
            "text/plain": [
              "   index                     title\n",
              "0      0  The Shawshank Redemption\n",
              "1      1             The Godfather\n",
              "2      2    The Godfather: Part II\n",
              "3      3           The Dark Knight\n",
              "4      4              Pulp Fiction"
            ]
          },
          "metadata": {
            "tags": []
          },
          "execution_count": 89
        }
      ]
    },
    {
      "cell_type": "code",
      "metadata": {
        "id": "Xh4ia1qeGnFE",
        "colab": {
          "base_uri": "https://localhost:8080/",
          "height": 419
        },
        "outputId": "a277de44-b2b4-46d0-88e2-d1d4a09cc208"
      },
      "source": [
        "# show only movie title and genre\r\n",
        "df[['title', 'genre']]"
      ],
      "execution_count": 90,
      "outputs": [
        {
          "output_type": "execute_result",
          "data": {
            "text/html": [
              "<div>\n",
              "<style scoped>\n",
              "    .dataframe tbody tr th:only-of-type {\n",
              "        vertical-align: middle;\n",
              "    }\n",
              "\n",
              "    .dataframe tbody tr th {\n",
              "        vertical-align: top;\n",
              "    }\n",
              "\n",
              "    .dataframe thead th {\n",
              "        text-align: right;\n",
              "    }\n",
              "</style>\n",
              "<table border=\"1\" class=\"dataframe\">\n",
              "  <thead>\n",
              "    <tr style=\"text-align: right;\">\n",
              "      <th></th>\n",
              "      <th>title</th>\n",
              "      <th>genre</th>\n",
              "    </tr>\n",
              "  </thead>\n",
              "  <tbody>\n",
              "    <tr>\n",
              "      <th>0</th>\n",
              "      <td>The Shawshank Redemption</td>\n",
              "      <td>Crime</td>\n",
              "    </tr>\n",
              "    <tr>\n",
              "      <th>1</th>\n",
              "      <td>The Godfather</td>\n",
              "      <td>Crime</td>\n",
              "    </tr>\n",
              "    <tr>\n",
              "      <th>2</th>\n",
              "      <td>The Godfather: Part II</td>\n",
              "      <td>Crime</td>\n",
              "    </tr>\n",
              "    <tr>\n",
              "      <th>3</th>\n",
              "      <td>The Dark Knight</td>\n",
              "      <td>Action</td>\n",
              "    </tr>\n",
              "    <tr>\n",
              "      <th>4</th>\n",
              "      <td>Pulp Fiction</td>\n",
              "      <td>Crime</td>\n",
              "    </tr>\n",
              "    <tr>\n",
              "      <th>...</th>\n",
              "      <td>...</td>\n",
              "      <td>...</td>\n",
              "    </tr>\n",
              "    <tr>\n",
              "      <th>974</th>\n",
              "      <td>Tootsie</td>\n",
              "      <td>Comedy</td>\n",
              "    </tr>\n",
              "    <tr>\n",
              "      <th>975</th>\n",
              "      <td>Back to the Future Part III</td>\n",
              "      <td>Adventure</td>\n",
              "    </tr>\n",
              "    <tr>\n",
              "      <th>976</th>\n",
              "      <td>Master and Commander: The Far Side of the World</td>\n",
              "      <td>Action</td>\n",
              "    </tr>\n",
              "    <tr>\n",
              "      <th>977</th>\n",
              "      <td>Poltergeist</td>\n",
              "      <td>Horror</td>\n",
              "    </tr>\n",
              "    <tr>\n",
              "      <th>978</th>\n",
              "      <td>Wall Street</td>\n",
              "      <td>Crime</td>\n",
              "    </tr>\n",
              "  </tbody>\n",
              "</table>\n",
              "<p>979 rows × 2 columns</p>\n",
              "</div>"
            ],
            "text/plain": [
              "                                               title      genre\n",
              "0                           The Shawshank Redemption      Crime\n",
              "1                                      The Godfather      Crime\n",
              "2                             The Godfather: Part II      Crime\n",
              "3                                    The Dark Knight     Action\n",
              "4                                       Pulp Fiction      Crime\n",
              "..                                               ...        ...\n",
              "974                                          Tootsie     Comedy\n",
              "975                      Back to the Future Part III  Adventure\n",
              "976  Master and Commander: The Far Side of the World     Action\n",
              "977                                      Poltergeist     Horror\n",
              "978                                      Wall Street      Crime\n",
              "\n",
              "[979 rows x 2 columns]"
            ]
          },
          "metadata": {
            "tags": []
          },
          "execution_count": 90
        }
      ]
    },
    {
      "cell_type": "markdown",
      "metadata": {
        "id": "eNNh8aG2GnFF"
      },
      "source": [
        "## Understanding columns\n",
        "\n",
        "On the inside, the type of a column is ``pd.Series`` and pandas Series are internally numpy arrays. If you add ``.values`` to the end of any Series, you'll get its internal **numpy array**."
      ]
    },
    {
      "cell_type": "code",
      "metadata": {
        "id": "rQZNY0KdGnFG",
        "colab": {
          "base_uri": "https://localhost:8080/"
        },
        "outputId": "5846387e-c17d-46fe-dc83-136896ce64b6"
      },
      "source": [
        "# show the type of duration column\r\n",
        "type(df['duration'])\r\n",
        "df['duration'].dtype"
      ],
      "execution_count": 91,
      "outputs": [
        {
          "output_type": "execute_result",
          "data": {
            "text/plain": [
              "dtype('int64')"
            ]
          },
          "metadata": {
            "tags": []
          },
          "execution_count": 91
        }
      ]
    },
    {
      "cell_type": "code",
      "metadata": {
        "id": "XWVdkTOtGnFH",
        "colab": {
          "base_uri": "https://localhost:8080/"
        },
        "outputId": "33faab41-d34d-4598-9956-76de6de9fce2"
      },
      "source": [
        "# show duration values of movies as numpy arrays\r\n",
        "df['duration'].values"
      ],
      "execution_count": 92,
      "outputs": [
        {
          "output_type": "execute_result",
          "data": {
            "text/plain": [
              "array([142, 175, 200, 152, 154,  96, 161, 201, 195, 139, 178, 148, 124,\n",
              "       142, 179, 169, 133, 207, 146, 121, 136, 130, 130, 106, 127, 116,\n",
              "       175, 118, 110,  87, 125, 112, 102, 107, 119,  87, 169, 115, 112,\n",
              "       109, 189, 110, 150, 165, 155, 137, 113, 165,  95, 151, 155, 153,\n",
              "       125, 130, 116,  89, 137, 117,  88, 165, 170,  89, 146,  99,  98,\n",
              "       116, 156, 122, 149, 134, 122, 136, 157, 123, 119, 137, 128, 120,\n",
              "       229, 107, 134, 103, 177, 129, 102, 216, 136,  93,  68, 189,  99,\n",
              "       108, 113, 181, 103, 138, 110, 129,  88, 160, 126,  91, 116, 125,\n",
              "       143,  93, 102, 132, 153, 183, 160, 120, 138, 140, 153, 170, 129,\n",
              "        81, 127, 131, 172, 115, 108, 107, 129, 156,  96,  91,  95, 162,\n",
              "       130,  86, 186, 151,  96, 170, 118, 161, 131, 126, 131, 129, 224,\n",
              "       180, 105, 117, 140, 119, 124, 130, 139, 107, 132, 117, 126, 122,\n",
              "       178, 238, 149, 172,  98, 116, 116, 123, 148, 123, 182,  92,  93,\n",
              "       100, 135, 105,  94, 140,  83,  95,  98, 143,  99,  98, 121, 163,\n",
              "       121, 167, 188, 121, 109, 110, 129, 127,  94, 107, 100, 117, 129,\n",
              "       120, 121, 133, 111, 122, 101, 134, 165, 138, 212, 154,  89, 134,\n",
              "        93, 114,  88, 130, 101, 158,  99, 108, 124, 132, 113, 131, 191,\n",
              "       167, 130, 147, 102,  88, 165, 132, 118, 101, 108, 174,  98,  92,\n",
              "        98, 106,  85, 101, 105, 115, 115, 124, 105, 103, 138, 184, 120,\n",
              "        99, 131, 138,  98, 123, 118, 114, 118, 112, 124, 160,  67, 146,\n",
              "       125, 115, 134, 141, 129, 104,  94, 124, 150, 119, 128, 143,  85,\n",
              "       151, 118, 101,  99,  92, 125, 102, 106, 107,  91,  80, 122, 102,\n",
              "       112,  92, 135, 136, 153, 105, 126,  68,  84, 103, 145,  80, 106,\n",
              "       127, 178, 137, 172,  76, 130,  96,  82, 115,  95, 143, 125, 120,\n",
              "       127, 112, 104, 113, 189, 127, 188,  96, 113, 132, 122, 126, 140,\n",
              "       133, 112, 102,  93, 109,  81, 108, 111, 119,  96, 197, 127, 138,\n",
              "        66, 181, 141, 144, 128,  83, 121,  98, 117,  94, 174, 112, 108,\n",
              "        70,  99,  96, 137, 136, 100,  90,  96, 161, 115, 181, 169,  98,\n",
              "       136, 138, 119, 123, 112, 120, 103,  97, 109, 165, 156, 147, 100,\n",
              "       126, 115, 105, 144, 102, 107, 119,  90, 197,  86, 113, 133,  64,\n",
              "       141, 113, 122, 105, 119, 102, 122, 123, 113,  97, 117, 111,  85,\n",
              "        99, 134,  75, 109, 117,  91, 128, 111, 119, 100, 114,  92, 141,\n",
              "       101, 115, 127,  96, 129, 135, 109, 157, 193,  94, 155, 113, 130,\n",
              "       117, 159, 141, 112, 162, 126, 120, 144, 120, 109,  97, 108, 115,\n",
              "       136,  90, 170, 220, 116, 134, 124,  91, 103,  96, 119,  98, 101,\n",
              "        93, 179, 155, 121, 103, 127, 103, 107, 100,  92,  94, 158,  86,\n",
              "       115, 130, 107, 100, 108, 124, 131, 122, 242, 127, 141, 126,  89,\n",
              "       113, 152, 107,  92, 145,  84, 126, 132,  78, 117, 128, 100, 128,\n",
              "       100, 143, 107, 100, 125, 106, 157,  94, 104,  94, 153, 123, 120,\n",
              "       105, 166, 112,  94, 111,  87,  80, 108, 102, 105, 136, 101, 100,\n",
              "       108, 101, 106, 105,  88, 129, 138, 129, 118, 139, 123, 150, 132,\n",
              "        80, 178,  79, 163, 114, 144, 130, 154,  81,  95, 101, 120,  93,\n",
              "       115, 106, 120, 110, 123, 142,  99, 112, 120, 122, 130, 139, 129,\n",
              "       141, 127, 130, 118, 110, 115, 101, 112, 108, 143, 152, 117, 121,\n",
              "       119, 114, 122, 105, 110, 116, 139, 121, 109, 146, 113, 100, 121,\n",
              "       113, 113, 117,  93, 101,  90, 131,  98,  93, 121,  82, 124, 100,\n",
              "       117,  99, 116, 123, 114, 133, 105, 127, 144,  90, 118, 122, 102,\n",
              "       187,  87, 154,  89,  88, 129,  95, 118,  98, 194, 114,  80, 130,\n",
              "       135, 101, 105, 129, 134, 143, 202,  89, 106,  92, 137, 124, 122,\n",
              "       113, 112, 110, 135,  88, 146, 104, 125, 131,  91, 142, 129, 158,\n",
              "       102,  99, 101, 104, 119, 103,  88, 100, 146, 150, 140, 140, 110,\n",
              "        97, 102, 152, 100,  94,  85, 104, 112, 191, 119, 111,  94, 103,\n",
              "       134, 157, 158, 127, 101, 109,  98, 134, 168,  93, 145, 111,  88,\n",
              "       123, 121, 144, 116, 124, 147, 106, 113, 129,  94, 126, 128, 111,\n",
              "       146,  85, 105, 132, 130, 162, 113, 110, 113, 162, 110,  78,  92,\n",
              "        95, 138, 102, 128,  96, 164, 126, 110, 109, 122, 124, 128, 157,\n",
              "       120, 102, 152, 170, 102, 116, 164,  85, 104,  99,  81, 131, 101,\n",
              "       121,  69,  92,  94, 141, 116,  98, 135, 121, 108, 114, 102, 112,\n",
              "       140, 157, 128, 108, 139,  83, 131, 113, 136,  96, 118, 108,  83,\n",
              "       205, 124, 111, 137, 104, 109, 115,  99, 114, 133, 131, 131, 123,\n",
              "       126,  97, 126,  89, 122, 121, 125, 105, 118,  81, 115, 126, 113,\n",
              "       107, 126, 111,  85, 120,  93, 100, 107, 126, 131, 116, 143,  93,\n",
              "        96, 160, 137, 119, 114,  98, 111, 138, 144, 107, 114, 125, 146,\n",
              "       113,  85,  97,  93, 113, 128, 114, 147, 127, 167, 124, 109, 124,\n",
              "       102, 130, 125,  98, 154,  97, 128,  98, 101, 147, 172, 125,  88,\n",
              "       125, 121, 112, 120, 133, 110, 135, 110,  80, 135, 101, 112, 124,\n",
              "       129, 104,  96, 105, 109, 117,  78, 138, 106,  90, 106,  91, 112,\n",
              "       134, 112, 104, 101, 120, 123, 133, 110, 129, 120,  83,  88,  96,\n",
              "       139, 113,  84, 106, 170, 144, 104, 153,  85, 130,  93, 148, 115,\n",
              "       102, 125, 106, 121, 143, 116,  99, 116, 128, 119, 104, 114, 152,\n",
              "       129, 103, 112,  92, 141, 106, 109, 104, 122, 111, 112, 116, 130,\n",
              "       133, 134,  92, 104, 110,  97, 100, 118, 112, 138,  92, 118, 140,\n",
              "       128, 101,  75,  97, 111, 175,  94,  97, 132, 120, 107,  89,  86,\n",
              "       103, 108, 105, 117, 102, 104, 157, 104,  98, 109,  96, 103, 114,\n",
              "        99, 118, 150, 105,  87, 136, 162, 109, 107,  90, 112, 126, 116,\n",
              "       118, 138, 114, 126])"
            ]
          },
          "metadata": {
            "tags": []
          },
          "execution_count": 92
        }
      ]
    },
    {
      "cell_type": "markdown",
      "metadata": {
        "id": "pR-Wat1sGnFI"
      },
      "source": [
        "## Applying functions to columns\n",
        "\n",
        "Use `.apply` function to apply any function to each element of a column."
      ]
    },
    {
      "cell_type": "code",
      "metadata": {
        "id": "aOmFodpvGnFJ",
        "colab": {
          "base_uri": "https://localhost:8080/"
        },
        "outputId": "5f9da259-8a53-4c11-b5aa-00dbd477967b"
      },
      "source": [
        "# convert all the movie titles to uppercase\r\n",
        "df['title'].apply(lambda value: value.upper())"
      ],
      "execution_count": 93,
      "outputs": [
        {
          "output_type": "execute_result",
          "data": {
            "text/plain": [
              "0                             THE SHAWSHANK REDEMPTION\n",
              "1                                        THE GODFATHER\n",
              "2                               THE GODFATHER: PART II\n",
              "3                                      THE DARK KNIGHT\n",
              "4                                         PULP FICTION\n",
              "                            ...                       \n",
              "974                                            TOOTSIE\n",
              "975                        BACK TO THE FUTURE PART III\n",
              "976    MASTER AND COMMANDER: THE FAR SIDE OF THE WORLD\n",
              "977                                        POLTERGEIST\n",
              "978                                        WALL STREET\n",
              "Name: title, Length: 979, dtype: object"
            ]
          },
          "metadata": {
            "tags": []
          },
          "execution_count": 93
        }
      ]
    },
    {
      "cell_type": "markdown",
      "metadata": {
        "id": "8tsa5H7kGnFJ"
      },
      "source": [
        "## Plotting a column\n",
        "\n",
        "Use ``.plot()`` function!"
      ]
    },
    {
      "cell_type": "code",
      "metadata": {
        "id": "0adCHYluezh4",
        "colab": {
          "base_uri": "https://localhost:8080/"
        },
        "outputId": "f171b339-d96b-484c-de74-2284924c36e4"
      },
      "source": [
        "df1.dtypes"
      ],
      "execution_count": 94,
      "outputs": [
        {
          "output_type": "execute_result",
          "data": {
            "text/plain": [
              "Unnamed: 1                      object\n",
              "Rachel / Papineau                int64\n",
              "Berri1                           int64\n",
              "Maisonneuve_2                    int64\n",
              "Maisonneuve_1                    int64\n",
              "Brébeuf                        float64\n",
              "Parc                             int64\n",
              "PierDup                          int64\n",
              "CSC (Côte Sainte-Catherine)      int64\n",
              "Pont_Jacques_Cartier           float64\n",
              "dtype: object"
            ]
          },
          "metadata": {
            "tags": []
          },
          "execution_count": 94
        }
      ]
    },
    {
      "cell_type": "code",
      "metadata": {
        "id": "G_3nLGfPGnFK",
        "colab": {
          "base_uri": "https://localhost:8080/",
          "height": 313
        },
        "outputId": "1cd8e938-f9f5-43df-db32-788ade2cc935"
      },
      "source": [
        "# plot the bikers travelling to Berri1 over the year\r\n",
        "import matplotlib.pyplot as plt\r\n",
        "import seaborn as sns\r\n",
        "sns.set()\r\n",
        "df1['Berri1'].plot()"
      ],
      "execution_count": 95,
      "outputs": [
        {
          "output_type": "execute_result",
          "data": {
            "text/plain": [
              "<matplotlib.axes._subplots.AxesSubplot at 0x7f9b1b401dd8>"
            ]
          },
          "metadata": {
            "tags": []
          },
          "execution_count": 95
        },
        {
          "output_type": "display_data",
          "data": {
            "image/png": "[encoded data removed]",
            "text/plain": [
              "<Figure size 432x288 with 1 Axes>"
            ]
          },
          "metadata": {
            "tags": []
          }
        }
      ]
    },
    {
      "cell_type": "code",
      "metadata": {
        "id": "fptlstquGnFL",
        "colab": {
          "base_uri": "https://localhost:8080/",
          "height": 313
        },
        "outputId": "0ae116a0-aced-45f8-ec5e-317db50244a9"
      },
      "source": [
        "# plot all the columns of bikes_df\r\n",
        "df1.plot()"
      ],
      "execution_count": 96,
      "outputs": [
        {
          "output_type": "execute_result",
          "data": {
            "text/plain": [
              "<matplotlib.axes._subplots.AxesSubplot at 0x7f9b1b2f57f0>"
            ]
          },
          "metadata": {
            "tags": []
          },
          "execution_count": 96
        },
        {
          "output_type": "display_data",
          "data": {
            "image/png": "[encoded data removed]",
            "text/plain": [
              "<Figure size 432x288 with 1 Axes>"
            ]
          },
          "metadata": {
            "tags": []
          }
        }
      ]
    },
    {
      "cell_type": "markdown",
      "metadata": {
        "id": "oP5Ud8jVGnFL"
      },
      "source": [
        "## Value counts\n",
        "\n",
        "Get count of unique values in a particular column/Series."
      ]
    },
    {
      "cell_type": "code",
      "metadata": {
        "id": "MuAhMB-xGnFQ",
        "colab": {
          "base_uri": "https://localhost:8080/"
        },
        "outputId": "1dcd84ec-2989-4ec5-cf0a-3845fa6df030"
      },
      "source": [
        "# what are the unique genre in imdb_df?\r\n",
        "df['genre'].value_counts()\r\n",
        "# df['genre'].nunique()"
      ],
      "execution_count": 97,
      "outputs": [
        {
          "output_type": "execute_result",
          "data": {
            "text/plain": [
              "Drama        278\n",
              "Comedy       156\n",
              "Action       136\n",
              "Crime        124\n",
              "Biography     77\n",
              "Adventure     75\n",
              "Animation     62\n",
              "Horror        29\n",
              "Mystery       16\n",
              "Western        9\n",
              "Thriller       5\n",
              "Sci-Fi         5\n",
              "Film-Noir      3\n",
              "Family         2\n",
              "History        1\n",
              "Fantasy        1\n",
              "Name: genre, dtype: int64"
            ]
          },
          "metadata": {
            "tags": []
          },
          "execution_count": 97
        }
      ]
    },
    {
      "cell_type": "code",
      "metadata": {
        "id": "fhlDUlm6GnFR",
        "colab": {
          "base_uri": "https://localhost:8080/",
          "height": 332
        },
        "outputId": "57192bf6-7e68-48fb-c116-852b8dc2b7a7"
      },
      "source": [
        "# plotting value counts of unique genres as a bar chart\r\n",
        "df['genre'].value_counts().plot(kind='bar')"
      ],
      "execution_count": 98,
      "outputs": [
        {
          "output_type": "execute_result",
          "data": {
            "text/plain": [
              "<matplotlib.axes._subplots.AxesSubplot at 0x7f9b1b1d60f0>"
            ]
          },
          "metadata": {
            "tags": []
          },
          "execution_count": 98
        },
        {
          "output_type": "display_data",
          "data": {
            "image/png": "[encoded data removed]",
            "text/plain": [
              "<Figure size 432x288 with 1 Axes>"
            ]
          },
          "metadata": {
            "tags": []
          }
        }
      ]
    },
    {
      "cell_type": "code",
      "metadata": {
        "id": "JSpNdf5gGnFS",
        "colab": {
          "base_uri": "https://localhost:8080/",
          "height": 606
        },
        "outputId": "566cb037-ecbd-4188-aec7-86d92a07c01d"
      },
      "source": [
        "# plotting value counts of unique genres as a pie chart\r\n",
        "df['genre'].value_counts().plot(kind='pie', figsize=(10,12))"
      ],
      "execution_count": 99,
      "outputs": [
        {
          "output_type": "execute_result",
          "data": {
            "text/plain": [
              "<matplotlib.axes._subplots.AxesSubplot at 0x7f9b1b1376a0>"
            ]
          },
          "metadata": {
            "tags": []
          },
          "execution_count": 99
        },
        {
          "output_type": "display_data",
          "data": {
            "image/png": "[encoded data removed]",
            "text/plain": [
              "<Figure size 720x864 with 1 Axes>"
            ]
          },
          "metadata": {
            "tags": []
          }
        }
      ]
    },
    {
      "cell_type": "markdown",
      "metadata": {
        "id": "SnF5Ooz2GnFT"
      },
      "source": [
        "## Index\n",
        "\n",
        "### DATAFRAME = COLUMNS + INDEX + ND DATA\n",
        "\n",
        "### SERIES = INDEX + 1-D DATA\n",
        "\n",
        "**Index** or (**row labels**) is one of the fundamental data structure of pandas. It can be thought of as an **immutable array** and an **ordered set**.\n",
        "\n",
        "> Every row is uniquely identified by its index value."
      ]
    },
    {
      "cell_type": "code",
      "metadata": {
        "id": "2XbvfG3CGnFU",
        "colab": {
          "base_uri": "https://localhost:8080/"
        },
        "outputId": "e9bc542c-5c93-4c5d-b94d-263d90401b69"
      },
      "source": [
        "# show index of bikes_df\r\n",
        "df1.index"
      ],
      "execution_count": 100,
      "outputs": [
        {
          "output_type": "execute_result",
          "data": {
            "text/plain": [
              "DatetimeIndex(['2012-01-01', '2012-01-02', '2012-01-03', '2012-01-04',\n",
              "               '2012-01-05', '2012-01-06', '2012-01-07', '2012-01-08',\n",
              "               '2012-01-09', '2012-01-10',\n",
              "               ...\n",
              "               '2012-12-22', '2012-12-23', '2012-12-24', '2012-12-25',\n",
              "               '2012-12-26', '2012-12-27', '2012-12-28', '2012-12-29',\n",
              "               '2012-12-30', '2012-12-31'],\n",
              "              dtype='datetime64[ns]', name='Date', length=366, freq=None)"
            ]
          },
          "metadata": {
            "tags": []
          },
          "execution_count": 100
        }
      ]
    },
    {
      "cell_type": "code",
      "metadata": {
        "id": "GuNNnbSpGnFU",
        "colab": {
          "base_uri": "https://localhost:8080/"
        },
        "outputId": "8bdab486-585b-4853-cb5b-c1735d9de138"
      },
      "source": [
        "# get row for date 2012-01-01\r\n",
        "df1.loc['2012-01-01']"
      ],
      "execution_count": 101,
      "outputs": [
        {
          "output_type": "execute_result",
          "data": {
            "text/plain": [
              "Unnamed: 1                     00:00\n",
              "Rachel / Papineau                 16\n",
              "Berri1                            35\n",
              "Maisonneuve_2                     51\n",
              "Maisonneuve_1                     38\n",
              "Brébeuf                            5\n",
              "Parc                              26\n",
              "PierDup                           10\n",
              "CSC (Côte Sainte-Catherine)        0\n",
              "Pont_Jacques_Cartier              27\n",
              "Name: 2012-01-01 00:00:00, dtype: object"
            ]
          },
          "metadata": {
            "tags": []
          },
          "execution_count": 101
        }
      ]
    },
    {
      "cell_type": "markdown",
      "metadata": {
        "id": "tPy0y8yoGnFV"
      },
      "source": [
        "#### To get row by integer index:\n",
        "\n",
        "Use ``.iloc[]`` for purely integer-location based indexing for selection by position."
      ]
    },
    {
      "cell_type": "code",
      "metadata": {
        "id": "3zaA5oGfGnFV",
        "colab": {
          "base_uri": "https://localhost:8080/"
        },
        "outputId": "fefc91c3-4998-4ae9-c343-ae1a10203029"
      },
      "source": [
        "# show 11th row of imdb_df using iloc\r\n",
        "df.iloc[10]"
      ],
      "execution_count": 102,
      "outputs": [
        {
          "output_type": "execute_result",
          "data": {
            "text/plain": [
              "star_rating                                                     8.8\n",
              "title             The Lord of the Rings: The Fellowship of the Ring\n",
              "content_rating                                                PG-13\n",
              "genre                                                     Adventure\n",
              "duration                                                        178\n",
              "actors_list       [u'Elijah Wood', u'Ian McKellen', u'Orlando Bl...\n",
              "Name: 10, dtype: object"
            ]
          },
          "metadata": {
            "tags": []
          },
          "execution_count": 102
        }
      ]
    },
    {
      "cell_type": "markdown",
      "metadata": {
        "id": "qI8T6ohYGnFW"
      },
      "source": [
        "## Selecting rows where column has a particular value"
      ]
    },
    {
      "cell_type": "code",
      "metadata": {
        "id": "MaiAgoNvGnFW",
        "colab": {
          "base_uri": "https://localhost:8080/",
          "height": 419
        },
        "outputId": "8dcdf802-9c52-4188-f808-73efa19ca73d"
      },
      "source": [
        "# select only those movies where genre is adventure\r\n",
        "df[df['genre'] == 'Adventure']"
      ],
      "execution_count": 103,
      "outputs": [
        {
          "output_type": "execute_result",
          "data": {
            "text/html": [
              "<div>\n",
              "<style scoped>\n",
              "    .dataframe tbody tr th:only-of-type {\n",
              "        vertical-align: middle;\n",
              "    }\n",
              "\n",
              "    .dataframe tbody tr th {\n",
              "        vertical-align: top;\n",
              "    }\n",
              "\n",
              "    .dataframe thead th {\n",
              "        text-align: right;\n",
              "    }\n",
              "</style>\n",
              "<table border=\"1\" class=\"dataframe\">\n",
              "  <thead>\n",
              "    <tr style=\"text-align: right;\">\n",
              "      <th></th>\n",
              "      <th>star_rating</th>\n",
              "      <th>title</th>\n",
              "      <th>content_rating</th>\n",
              "      <th>genre</th>\n",
              "      <th>duration</th>\n",
              "      <th>actors_list</th>\n",
              "    </tr>\n",
              "  </thead>\n",
              "  <tbody>\n",
              "    <tr>\n",
              "      <th>7</th>\n",
              "      <td>8.9</td>\n",
              "      <td>The Lord of the Rings: The Return of the King</td>\n",
              "      <td>PG-13</td>\n",
              "      <td>Adventure</td>\n",
              "      <td>201</td>\n",
              "      <td>[u'Elijah Wood', u'Viggo Mortensen', u'Ian McK...</td>\n",
              "    </tr>\n",
              "    <tr>\n",
              "      <th>10</th>\n",
              "      <td>8.8</td>\n",
              "      <td>The Lord of the Rings: The Fellowship of the Ring</td>\n",
              "      <td>PG-13</td>\n",
              "      <td>Adventure</td>\n",
              "      <td>178</td>\n",
              "      <td>[u'Elijah Wood', u'Ian McKellen', u'Orlando Bl...</td>\n",
              "    </tr>\n",
              "    <tr>\n",
              "      <th>14</th>\n",
              "      <td>8.8</td>\n",
              "      <td>The Lord of the Rings: The Two Towers</td>\n",
              "      <td>PG-13</td>\n",
              "      <td>Adventure</td>\n",
              "      <td>179</td>\n",
              "      <td>[u'Elijah Wood', u'Ian McKellen', u'Viggo Mort...</td>\n",
              "    </tr>\n",
              "    <tr>\n",
              "      <th>15</th>\n",
              "      <td>8.7</td>\n",
              "      <td>Interstellar</td>\n",
              "      <td>PG-13</td>\n",
              "      <td>Adventure</td>\n",
              "      <td>169</td>\n",
              "      <td>[u'Matthew McConaughey', u'Anne Hathaway', u'J...</td>\n",
              "    </tr>\n",
              "    <tr>\n",
              "      <th>54</th>\n",
              "      <td>8.5</td>\n",
              "      <td>Back to the Future</td>\n",
              "      <td>PG</td>\n",
              "      <td>Adventure</td>\n",
              "      <td>116</td>\n",
              "      <td>[u'Michael J. Fox', u'Christopher Lloyd', u'Le...</td>\n",
              "    </tr>\n",
              "    <tr>\n",
              "      <th>...</th>\n",
              "      <td>...</td>\n",
              "      <td>...</td>\n",
              "      <td>...</td>\n",
              "      <td>...</td>\n",
              "      <td>...</td>\n",
              "      <td>...</td>\n",
              "    </tr>\n",
              "    <tr>\n",
              "      <th>936</th>\n",
              "      <td>7.4</td>\n",
              "      <td>True Grit</td>\n",
              "      <td>NaN</td>\n",
              "      <td>Adventure</td>\n",
              "      <td>128</td>\n",
              "      <td>[u'John Wayne', u'Kim Darby', u'Glen Campbell']</td>\n",
              "    </tr>\n",
              "    <tr>\n",
              "      <th>937</th>\n",
              "      <td>7.4</td>\n",
              "      <td>Labyrinth</td>\n",
              "      <td>PG</td>\n",
              "      <td>Adventure</td>\n",
              "      <td>101</td>\n",
              "      <td>[u'David Bowie', u'Jennifer Connelly', u'Toby ...</td>\n",
              "    </tr>\n",
              "    <tr>\n",
              "      <th>943</th>\n",
              "      <td>7.4</td>\n",
              "      <td>The Bucket List</td>\n",
              "      <td>PG-13</td>\n",
              "      <td>Adventure</td>\n",
              "      <td>97</td>\n",
              "      <td>[u'Jack Nicholson', u'Morgan Freeman', u'Sean ...</td>\n",
              "    </tr>\n",
              "    <tr>\n",
              "      <th>953</th>\n",
              "      <td>7.4</td>\n",
              "      <td>The NeverEnding Story</td>\n",
              "      <td>PG</td>\n",
              "      <td>Adventure</td>\n",
              "      <td>102</td>\n",
              "      <td>[u'Noah Hathaway', u'Barret Oliver', u'Tami St...</td>\n",
              "    </tr>\n",
              "    <tr>\n",
              "      <th>975</th>\n",
              "      <td>7.4</td>\n",
              "      <td>Back to the Future Part III</td>\n",
              "      <td>PG</td>\n",
              "      <td>Adventure</td>\n",
              "      <td>118</td>\n",
              "      <td>[u'Michael J. Fox', u'Christopher Lloyd', u'Ma...</td>\n",
              "    </tr>\n",
              "  </tbody>\n",
              "</table>\n",
              "<p>75 rows × 6 columns</p>\n",
              "</div>"
            ],
            "text/plain": [
              "     star_rating  ...                                        actors_list\n",
              "7            8.9  ...  [u'Elijah Wood', u'Viggo Mortensen', u'Ian McK...\n",
              "10           8.8  ...  [u'Elijah Wood', u'Ian McKellen', u'Orlando Bl...\n",
              "14           8.8  ...  [u'Elijah Wood', u'Ian McKellen', u'Viggo Mort...\n",
              "15           8.7  ...  [u'Matthew McConaughey', u'Anne Hathaway', u'J...\n",
              "54           8.5  ...  [u'Michael J. Fox', u'Christopher Lloyd', u'Le...\n",
              "..           ...  ...                                                ...\n",
              "936          7.4  ...    [u'John Wayne', u'Kim Darby', u'Glen Campbell']\n",
              "937          7.4  ...  [u'David Bowie', u'Jennifer Connelly', u'Toby ...\n",
              "943          7.4  ...  [u'Jack Nicholson', u'Morgan Freeman', u'Sean ...\n",
              "953          7.4  ...  [u'Noah Hathaway', u'Barret Oliver', u'Tami St...\n",
              "975          7.4  ...  [u'Michael J. Fox', u'Christopher Lloyd', u'Ma...\n",
              "\n",
              "[75 rows x 6 columns]"
            ]
          },
          "metadata": {
            "tags": []
          },
          "execution_count": 103
        }
      ]
    },
    {
      "cell_type": "code",
      "metadata": {
        "id": "pQIR3EduGnFW",
        "colab": {
          "base_uri": "https://localhost:8080/",
          "height": 332
        },
        "outputId": "36b05051-77f3-4c15-f880-411289059c03"
      },
      "source": [
        "# which genre has highest number of movies with star rating above 8 and duration more than 130 minutes?\r\n",
        "df.loc[(df['star_rating'] > 8) & (df['duration'] > 130), 'genre'].value_counts().plot(kind='bar')"
      ],
      "execution_count": 104,
      "outputs": [
        {
          "output_type": "execute_result",
          "data": {
            "text/plain": [
              "<matplotlib.axes._subplots.AxesSubplot at 0x7f9b1b05e160>"
            ]
          },
          "metadata": {
            "tags": []
          },
          "execution_count": 104
        },
        {
          "output_type": "display_data",
          "data": {
            "image/png": "[encoded data removed]",
            "text/plain": [
              "<Figure size 432x288 with 1 Axes>"
            ]
          },
          "metadata": {
            "tags": []
          }
        }
      ]
    },
    {
      "cell_type": "markdown",
      "metadata": {
        "id": "zxlcqTMMGnFW"
      },
      "source": [
        "## Adding a new column to DataFrame"
      ]
    },
    {
      "cell_type": "code",
      "metadata": {
        "id": "ZnxGPp0XGnFX",
        "colab": {
          "base_uri": "https://localhost:8080/",
          "height": 235
        },
        "outputId": "5900d2e0-0c81-47ad-c2fc-94af480d7107"
      },
      "source": [
        "# add a weekday column to bikes_df\r\n",
        "df1['weekday'] = df1.index.weekday\r\n",
        "df1.head()"
      ],
      "execution_count": 166,
      "outputs": [
        {
          "output_type": "execute_result",
          "data": {
            "text/html": [
              "<div>\n",
              "<style scoped>\n",
              "    .dataframe tbody tr th:only-of-type {\n",
              "        vertical-align: middle;\n",
              "    }\n",
              "\n",
              "    .dataframe tbody tr th {\n",
              "        vertical-align: top;\n",
              "    }\n",
              "\n",
              "    .dataframe thead th {\n",
              "        text-align: right;\n",
              "    }\n",
              "</style>\n",
              "<table border=\"1\" class=\"dataframe\">\n",
              "  <thead>\n",
              "    <tr style=\"text-align: right;\">\n",
              "      <th></th>\n",
              "      <th>Rachel / Papineau</th>\n",
              "      <th>Berri1</th>\n",
              "      <th>Maisonneuve_2</th>\n",
              "      <th>Maisonneuve_1</th>\n",
              "      <th>Brébeuf</th>\n",
              "      <th>Parc</th>\n",
              "      <th>PierDup</th>\n",
              "      <th>CSC (Côte Sainte-Catherine)</th>\n",
              "      <th>Pont_Jacques_Cartier</th>\n",
              "      <th>weekday</th>\n",
              "    </tr>\n",
              "    <tr>\n",
              "      <th>Date</th>\n",
              "      <th></th>\n",
              "      <th></th>\n",
              "      <th></th>\n",
              "      <th></th>\n",
              "      <th></th>\n",
              "      <th></th>\n",
              "      <th></th>\n",
              "      <th></th>\n",
              "      <th></th>\n",
              "      <th></th>\n",
              "    </tr>\n",
              "  </thead>\n",
              "  <tbody>\n",
              "    <tr>\n",
              "      <th>2012-01-01</th>\n",
              "      <td>16</td>\n",
              "      <td>35</td>\n",
              "      <td>51</td>\n",
              "      <td>38</td>\n",
              "      <td>5.0</td>\n",
              "      <td>26</td>\n",
              "      <td>10</td>\n",
              "      <td>0</td>\n",
              "      <td>27.0</td>\n",
              "      <td>6</td>\n",
              "    </tr>\n",
              "    <tr>\n",
              "      <th>2012-01-02</th>\n",
              "      <td>43</td>\n",
              "      <td>83</td>\n",
              "      <td>153</td>\n",
              "      <td>68</td>\n",
              "      <td>11.0</td>\n",
              "      <td>53</td>\n",
              "      <td>6</td>\n",
              "      <td>1</td>\n",
              "      <td>21.0</td>\n",
              "      <td>0</td>\n",
              "    </tr>\n",
              "    <tr>\n",
              "      <th>2012-01-03</th>\n",
              "      <td>58</td>\n",
              "      <td>135</td>\n",
              "      <td>248</td>\n",
              "      <td>104</td>\n",
              "      <td>2.0</td>\n",
              "      <td>89</td>\n",
              "      <td>3</td>\n",
              "      <td>2</td>\n",
              "      <td>15.0</td>\n",
              "      <td>1</td>\n",
              "    </tr>\n",
              "    <tr>\n",
              "      <th>2012-01-04</th>\n",
              "      <td>61</td>\n",
              "      <td>144</td>\n",
              "      <td>318</td>\n",
              "      <td>116</td>\n",
              "      <td>2.0</td>\n",
              "      <td>111</td>\n",
              "      <td>8</td>\n",
              "      <td>1</td>\n",
              "      <td>19.0</td>\n",
              "      <td>2</td>\n",
              "    </tr>\n",
              "    <tr>\n",
              "      <th>2012-01-05</th>\n",
              "      <td>95</td>\n",
              "      <td>197</td>\n",
              "      <td>330</td>\n",
              "      <td>124</td>\n",
              "      <td>6.0</td>\n",
              "      <td>97</td>\n",
              "      <td>13</td>\n",
              "      <td>2</td>\n",
              "      <td>16.0</td>\n",
              "      <td>3</td>\n",
              "    </tr>\n",
              "  </tbody>\n",
              "</table>\n",
              "</div>"
            ],
            "text/plain": [
              "            Rachel / Papineau  Berri1  ...  Pont_Jacques_Cartier  weekday\n",
              "Date                                   ...                               \n",
              "2012-01-01                 16      35  ...                  27.0        6\n",
              "2012-01-02                 43      83  ...                  21.0        0\n",
              "2012-01-03                 58     135  ...                  15.0        1\n",
              "2012-01-04                 61     144  ...                  19.0        2\n",
              "2012-01-05                 95     197  ...                  16.0        3\n",
              "\n",
              "[5 rows x 10 columns]"
            ]
          },
          "metadata": {
            "tags": []
          },
          "execution_count": 166
        }
      ]
    },
    {
      "cell_type": "markdown",
      "metadata": {
        "id": "CcIkmfxMGnFX"
      },
      "source": [
        "## Deleting an existing column from DataFrame"
      ]
    },
    {
      "cell_type": "code",
      "metadata": {
        "id": "KYbiW_zqGnFX",
        "colab": {
          "base_uri": "https://localhost:8080/",
          "height": 235
        },
        "outputId": "6344f928-0cd0-42df-a9a3-f46be74c0673"
      },
      "source": [
        "# remove column 'Unnamed: 1' from bikes_df\r\n",
        "df1.drop(columns='Unnamed: 1', inplace=True)\r\n",
        "df1.head()"
      ],
      "execution_count": 162,
      "outputs": [
        {
          "output_type": "execute_result",
          "data": {
            "text/html": [
              "<div>\n",
              "<style scoped>\n",
              "    .dataframe tbody tr th:only-of-type {\n",
              "        vertical-align: middle;\n",
              "    }\n",
              "\n",
              "    .dataframe tbody tr th {\n",
              "        vertical-align: top;\n",
              "    }\n",
              "\n",
              "    .dataframe thead th {\n",
              "        text-align: right;\n",
              "    }\n",
              "</style>\n",
              "<table border=\"1\" class=\"dataframe\">\n",
              "  <thead>\n",
              "    <tr style=\"text-align: right;\">\n",
              "      <th></th>\n",
              "      <th>Rachel / Papineau</th>\n",
              "      <th>Berri1</th>\n",
              "      <th>Maisonneuve_2</th>\n",
              "      <th>Maisonneuve_1</th>\n",
              "      <th>Brébeuf</th>\n",
              "      <th>Parc</th>\n",
              "      <th>PierDup</th>\n",
              "      <th>CSC (Côte Sainte-Catherine)</th>\n",
              "      <th>Pont_Jacques_Cartier</th>\n",
              "    </tr>\n",
              "    <tr>\n",
              "      <th>Date</th>\n",
              "      <th></th>\n",
              "      <th></th>\n",
              "      <th></th>\n",
              "      <th></th>\n",
              "      <th></th>\n",
              "      <th></th>\n",
              "      <th></th>\n",
              "      <th></th>\n",
              "      <th></th>\n",
              "    </tr>\n",
              "  </thead>\n",
              "  <tbody>\n",
              "    <tr>\n",
              "      <th>2012-01-01</th>\n",
              "      <td>16</td>\n",
              "      <td>35</td>\n",
              "      <td>51</td>\n",
              "      <td>38</td>\n",
              "      <td>5.0</td>\n",
              "      <td>26</td>\n",
              "      <td>10</td>\n",
              "      <td>0</td>\n",
              "      <td>27.0</td>\n",
              "    </tr>\n",
              "    <tr>\n",
              "      <th>2012-01-02</th>\n",
              "      <td>43</td>\n",
              "      <td>83</td>\n",
              "      <td>153</td>\n",
              "      <td>68</td>\n",
              "      <td>11.0</td>\n",
              "      <td>53</td>\n",
              "      <td>6</td>\n",
              "      <td>1</td>\n",
              "      <td>21.0</td>\n",
              "    </tr>\n",
              "    <tr>\n",
              "      <th>2012-01-03</th>\n",
              "      <td>58</td>\n",
              "      <td>135</td>\n",
              "      <td>248</td>\n",
              "      <td>104</td>\n",
              "      <td>2.0</td>\n",
              "      <td>89</td>\n",
              "      <td>3</td>\n",
              "      <td>2</td>\n",
              "      <td>15.0</td>\n",
              "    </tr>\n",
              "    <tr>\n",
              "      <th>2012-01-04</th>\n",
              "      <td>61</td>\n",
              "      <td>144</td>\n",
              "      <td>318</td>\n",
              "      <td>116</td>\n",
              "      <td>2.0</td>\n",
              "      <td>111</td>\n",
              "      <td>8</td>\n",
              "      <td>1</td>\n",
              "      <td>19.0</td>\n",
              "    </tr>\n",
              "    <tr>\n",
              "      <th>2012-01-05</th>\n",
              "      <td>95</td>\n",
              "      <td>197</td>\n",
              "      <td>330</td>\n",
              "      <td>124</td>\n",
              "      <td>6.0</td>\n",
              "      <td>97</td>\n",
              "      <td>13</td>\n",
              "      <td>2</td>\n",
              "      <td>16.0</td>\n",
              "    </tr>\n",
              "  </tbody>\n",
              "</table>\n",
              "</div>"
            ],
            "text/plain": [
              "            Rachel / Papineau  ...  Pont_Jacques_Cartier\n",
              "Date                           ...                      \n",
              "2012-01-01                 16  ...                  27.0\n",
              "2012-01-02                 43  ...                  21.0\n",
              "2012-01-03                 58  ...                  15.0\n",
              "2012-01-04                 61  ...                  19.0\n",
              "2012-01-05                 95  ...                  16.0\n",
              "\n",
              "[5 rows x 9 columns]"
            ]
          },
          "metadata": {
            "tags": []
          },
          "execution_count": 162
        }
      ]
    },
    {
      "cell_type": "markdown",
      "metadata": {
        "id": "ciNYjiwkGnFY"
      },
      "source": [
        "## Deleting a row in DataFrame"
      ]
    },
    {
      "cell_type": "code",
      "metadata": {
        "id": "pe1-e7FEGnFY",
        "colab": {
          "base_uri": "https://localhost:8080/",
          "height": 606
        },
        "outputId": "2607692e-be85-49f8-db44-32e6b9df8756"
      },
      "source": [
        "# remove row no. 1 from bikes_df\r\n",
        "# df1.drop([df1.iloc[1]])\r\n",
        "df1.reset_index().drop([1])"
      ],
      "execution_count": 107,
      "outputs": [
        {
          "output_type": "execute_result",
          "data": {
            "text/html": [
              "<div>\n",
              "<style scoped>\n",
              "    .dataframe tbody tr th:only-of-type {\n",
              "        vertical-align: middle;\n",
              "    }\n",
              "\n",
              "    .dataframe tbody tr th {\n",
              "        vertical-align: top;\n",
              "    }\n",
              "\n",
              "    .dataframe thead th {\n",
              "        text-align: right;\n",
              "    }\n",
              "</style>\n",
              "<table border=\"1\" class=\"dataframe\">\n",
              "  <thead>\n",
              "    <tr style=\"text-align: right;\">\n",
              "      <th></th>\n",
              "      <th>Date</th>\n",
              "      <th>Unnamed: 1</th>\n",
              "      <th>Rachel / Papineau</th>\n",
              "      <th>Berri1</th>\n",
              "      <th>Maisonneuve_2</th>\n",
              "      <th>Maisonneuve_1</th>\n",
              "      <th>Brébeuf</th>\n",
              "      <th>Parc</th>\n",
              "      <th>PierDup</th>\n",
              "      <th>CSC (Côte Sainte-Catherine)</th>\n",
              "      <th>Pont_Jacques_Cartier</th>\n",
              "      <th>weekday</th>\n",
              "    </tr>\n",
              "  </thead>\n",
              "  <tbody>\n",
              "    <tr>\n",
              "      <th>0</th>\n",
              "      <td>2012-01-01</td>\n",
              "      <td>00:00</td>\n",
              "      <td>16</td>\n",
              "      <td>35</td>\n",
              "      <td>51</td>\n",
              "      <td>38</td>\n",
              "      <td>5.0</td>\n",
              "      <td>26</td>\n",
              "      <td>10</td>\n",
              "      <td>0</td>\n",
              "      <td>27.0</td>\n",
              "      <td>6</td>\n",
              "    </tr>\n",
              "    <tr>\n",
              "      <th>2</th>\n",
              "      <td>2012-01-03</td>\n",
              "      <td>00:00</td>\n",
              "      <td>58</td>\n",
              "      <td>135</td>\n",
              "      <td>248</td>\n",
              "      <td>104</td>\n",
              "      <td>2.0</td>\n",
              "      <td>89</td>\n",
              "      <td>3</td>\n",
              "      <td>2</td>\n",
              "      <td>15.0</td>\n",
              "      <td>1</td>\n",
              "    </tr>\n",
              "    <tr>\n",
              "      <th>3</th>\n",
              "      <td>2012-01-04</td>\n",
              "      <td>00:00</td>\n",
              "      <td>61</td>\n",
              "      <td>144</td>\n",
              "      <td>318</td>\n",
              "      <td>116</td>\n",
              "      <td>2.0</td>\n",
              "      <td>111</td>\n",
              "      <td>8</td>\n",
              "      <td>1</td>\n",
              "      <td>19.0</td>\n",
              "      <td>2</td>\n",
              "    </tr>\n",
              "    <tr>\n",
              "      <th>4</th>\n",
              "      <td>2012-01-05</td>\n",
              "      <td>00:00</td>\n",
              "      <td>95</td>\n",
              "      <td>197</td>\n",
              "      <td>330</td>\n",
              "      <td>124</td>\n",
              "      <td>6.0</td>\n",
              "      <td>97</td>\n",
              "      <td>13</td>\n",
              "      <td>2</td>\n",
              "      <td>16.0</td>\n",
              "      <td>3</td>\n",
              "    </tr>\n",
              "    <tr>\n",
              "      <th>5</th>\n",
              "      <td>2012-01-06</td>\n",
              "      <td>00:00</td>\n",
              "      <td>75</td>\n",
              "      <td>146</td>\n",
              "      <td>244</td>\n",
              "      <td>98</td>\n",
              "      <td>4.0</td>\n",
              "      <td>86</td>\n",
              "      <td>4</td>\n",
              "      <td>0</td>\n",
              "      <td>17.0</td>\n",
              "      <td>4</td>\n",
              "    </tr>\n",
              "    <tr>\n",
              "      <th>...</th>\n",
              "      <td>...</td>\n",
              "      <td>...</td>\n",
              "      <td>...</td>\n",
              "      <td>...</td>\n",
              "      <td>...</td>\n",
              "      <td>...</td>\n",
              "      <td>...</td>\n",
              "      <td>...</td>\n",
              "      <td>...</td>\n",
              "      <td>...</td>\n",
              "      <td>...</td>\n",
              "      <td>...</td>\n",
              "    </tr>\n",
              "    <tr>\n",
              "      <th>361</th>\n",
              "      <td>2012-12-27</td>\n",
              "      <td>00:00</td>\n",
              "      <td>8</td>\n",
              "      <td>12</td>\n",
              "      <td>7</td>\n",
              "      <td>4</td>\n",
              "      <td>NaN</td>\n",
              "      <td>1</td>\n",
              "      <td>2</td>\n",
              "      <td>0</td>\n",
              "      <td>NaN</td>\n",
              "      <td>3</td>\n",
              "    </tr>\n",
              "    <tr>\n",
              "      <th>362</th>\n",
              "      <td>2012-12-28</td>\n",
              "      <td>00:00</td>\n",
              "      <td>0</td>\n",
              "      <td>35</td>\n",
              "      <td>3</td>\n",
              "      <td>38</td>\n",
              "      <td>NaN</td>\n",
              "      <td>0</td>\n",
              "      <td>0</td>\n",
              "      <td>0</td>\n",
              "      <td>NaN</td>\n",
              "      <td>4</td>\n",
              "    </tr>\n",
              "    <tr>\n",
              "      <th>363</th>\n",
              "      <td>2012-12-29</td>\n",
              "      <td>00:00</td>\n",
              "      <td>0</td>\n",
              "      <td>27</td>\n",
              "      <td>8</td>\n",
              "      <td>42</td>\n",
              "      <td>NaN</td>\n",
              "      <td>9</td>\n",
              "      <td>0</td>\n",
              "      <td>0</td>\n",
              "      <td>NaN</td>\n",
              "      <td>5</td>\n",
              "    </tr>\n",
              "    <tr>\n",
              "      <th>364</th>\n",
              "      <td>2012-12-30</td>\n",
              "      <td>00:00</td>\n",
              "      <td>0</td>\n",
              "      <td>5</td>\n",
              "      <td>1</td>\n",
              "      <td>5</td>\n",
              "      <td>NaN</td>\n",
              "      <td>6</td>\n",
              "      <td>0</td>\n",
              "      <td>0</td>\n",
              "      <td>NaN</td>\n",
              "      <td>6</td>\n",
              "    </tr>\n",
              "    <tr>\n",
              "      <th>365</th>\n",
              "      <td>2012-12-31</td>\n",
              "      <td>00:00</td>\n",
              "      <td>0</td>\n",
              "      <td>4</td>\n",
              "      <td>3</td>\n",
              "      <td>8</td>\n",
              "      <td>NaN</td>\n",
              "      <td>12</td>\n",
              "      <td>0</td>\n",
              "      <td>0</td>\n",
              "      <td>NaN</td>\n",
              "      <td>0</td>\n",
              "    </tr>\n",
              "  </tbody>\n",
              "</table>\n",
              "<p>365 rows × 12 columns</p>\n",
              "</div>"
            ],
            "text/plain": [
              "          Date Unnamed: 1  ...  Pont_Jacques_Cartier  weekday\n",
              "0   2012-01-01      00:00  ...                  27.0        6\n",
              "2   2012-01-03      00:00  ...                  15.0        1\n",
              "3   2012-01-04      00:00  ...                  19.0        2\n",
              "4   2012-01-05      00:00  ...                  16.0        3\n",
              "5   2012-01-06      00:00  ...                  17.0        4\n",
              "..         ...        ...  ...                   ...      ...\n",
              "361 2012-12-27      00:00  ...                   NaN        3\n",
              "362 2012-12-28      00:00  ...                   NaN        4\n",
              "363 2012-12-29      00:00  ...                   NaN        5\n",
              "364 2012-12-30      00:00  ...                   NaN        6\n",
              "365 2012-12-31      00:00  ...                   NaN        0\n",
              "\n",
              "[365 rows x 12 columns]"
            ]
          },
          "metadata": {
            "tags": []
          },
          "execution_count": 107
        }
      ]
    },
    {
      "cell_type": "markdown",
      "metadata": {
        "id": "UpW5aYwdGnFY"
      },
      "source": [
        "## Group By\n",
        "\n",
        "Any groupby operation involves one of the following operations on the original object. They are −\n",
        "\n",
        "- Splitting the Object\n",
        "\n",
        "- Applying a function\n",
        "\n",
        "- Combining the results\n",
        "\n",
        "In many situations, we split the data into sets and we apply some functionality on each subset. In the apply functionality, we can perform the following operations −\n",
        "\n",
        "- **Aggregation** − computing a summary statistic\n",
        "\n",
        "- **Transformation** − perform some group-specific operation\n",
        "\n",
        "- **Filtration** − discarding the data with some condition"
      ]
    },
    {
      "cell_type": "code",
      "metadata": {
        "id": "tMuSgvZ7GnFZ",
        "colab": {
          "base_uri": "https://localhost:8080/",
          "height": 576
        },
        "outputId": "1579ee18-8fda-48ba-b090-8f3e5c566185"
      },
      "source": [
        "# group imdb_df by movie genres\r\n",
        "grouped = df.groupby('genre')\r\n",
        "grouped.first()"
      ],
      "execution_count": 146,
      "outputs": [
        {
          "output_type": "execute_result",
          "data": {
            "text/html": [
              "<div>\n",
              "<style scoped>\n",
              "    .dataframe tbody tr th:only-of-type {\n",
              "        vertical-align: middle;\n",
              "    }\n",
              "\n",
              "    .dataframe tbody tr th {\n",
              "        vertical-align: top;\n",
              "    }\n",
              "\n",
              "    .dataframe thead th {\n",
              "        text-align: right;\n",
              "    }\n",
              "</style>\n",
              "<table border=\"1\" class=\"dataframe\">\n",
              "  <thead>\n",
              "    <tr style=\"text-align: right;\">\n",
              "      <th></th>\n",
              "      <th>star_rating</th>\n",
              "      <th>title</th>\n",
              "      <th>content_rating</th>\n",
              "      <th>duration</th>\n",
              "      <th>actors_list</th>\n",
              "    </tr>\n",
              "    <tr>\n",
              "      <th>genre</th>\n",
              "      <th></th>\n",
              "      <th></th>\n",
              "      <th></th>\n",
              "      <th></th>\n",
              "      <th></th>\n",
              "    </tr>\n",
              "  </thead>\n",
              "  <tbody>\n",
              "    <tr>\n",
              "      <th>Action</th>\n",
              "      <td>9.0</td>\n",
              "      <td>The Dark Knight</td>\n",
              "      <td>PG-13</td>\n",
              "      <td>152</td>\n",
              "      <td>[u'Christian Bale', u'Heath Ledger', u'Aaron E...</td>\n",
              "    </tr>\n",
              "    <tr>\n",
              "      <th>Adventure</th>\n",
              "      <td>8.9</td>\n",
              "      <td>The Lord of the Rings: The Return of the King</td>\n",
              "      <td>PG-13</td>\n",
              "      <td>201</td>\n",
              "      <td>[u'Elijah Wood', u'Viggo Mortensen', u'Ian McK...</td>\n",
              "    </tr>\n",
              "    <tr>\n",
              "      <th>Animation</th>\n",
              "      <td>8.6</td>\n",
              "      <td>Spirited Away</td>\n",
              "      <td>PG</td>\n",
              "      <td>125</td>\n",
              "      <td>[u'Daveigh Chase', u'Suzanne Pleshette', u'Miy...</td>\n",
              "    </tr>\n",
              "    <tr>\n",
              "      <th>Biography</th>\n",
              "      <td>8.9</td>\n",
              "      <td>Schindler's List</td>\n",
              "      <td>R</td>\n",
              "      <td>195</td>\n",
              "      <td>[u'Liam Neeson', u'Ralph Fiennes', u'Ben Kings...</td>\n",
              "    </tr>\n",
              "    <tr>\n",
              "      <th>Comedy</th>\n",
              "      <td>8.6</td>\n",
              "      <td>Life Is Beautiful</td>\n",
              "      <td>PG-13</td>\n",
              "      <td>116</td>\n",
              "      <td>[u'Roberto Benigni', u'Nicoletta Braschi', u'G...</td>\n",
              "    </tr>\n",
              "    <tr>\n",
              "      <th>Crime</th>\n",
              "      <td>9.3</td>\n",
              "      <td>The Shawshank Redemption</td>\n",
              "      <td>R</td>\n",
              "      <td>142</td>\n",
              "      <td>[u'Tim Robbins', u'Morgan Freeman', u'Bob Gunt...</td>\n",
              "    </tr>\n",
              "    <tr>\n",
              "      <th>Drama</th>\n",
              "      <td>8.9</td>\n",
              "      <td>12 Angry Men</td>\n",
              "      <td>NOT RATED</td>\n",
              "      <td>96</td>\n",
              "      <td>[u'Henry Fonda', u'Lee J. Cobb', u'Martin Bals...</td>\n",
              "    </tr>\n",
              "    <tr>\n",
              "      <th>Family</th>\n",
              "      <td>7.9</td>\n",
              "      <td>E.T. the Extra-Terrestrial</td>\n",
              "      <td>PG</td>\n",
              "      <td>115</td>\n",
              "      <td>[u'Henry Thomas', u'Drew Barrymore', u'Peter C...</td>\n",
              "    </tr>\n",
              "    <tr>\n",
              "      <th>Fantasy</th>\n",
              "      <td>7.7</td>\n",
              "      <td>The City of Lost Children</td>\n",
              "      <td>R</td>\n",
              "      <td>112</td>\n",
              "      <td>[u'Ron Perlman', u'Daniel Emilfork', u'Judith ...</td>\n",
              "    </tr>\n",
              "    <tr>\n",
              "      <th>Film-Noir</th>\n",
              "      <td>8.3</td>\n",
              "      <td>The Third Man</td>\n",
              "      <td>NOT RATED</td>\n",
              "      <td>93</td>\n",
              "      <td>[u'Orson Welles', u'Joseph Cotten', u'Alida Va...</td>\n",
              "    </tr>\n",
              "    <tr>\n",
              "      <th>History</th>\n",
              "      <td>8.0</td>\n",
              "      <td>Battleship Potemkin</td>\n",
              "      <td>UNRATED</td>\n",
              "      <td>66</td>\n",
              "      <td>[u'Aleksandr Antonov', u'Vladimir Barsky', u'G...</td>\n",
              "    </tr>\n",
              "    <tr>\n",
              "      <th>Horror</th>\n",
              "      <td>8.6</td>\n",
              "      <td>Psycho</td>\n",
              "      <td>R</td>\n",
              "      <td>109</td>\n",
              "      <td>[u'Anthony Perkins', u'Janet Leigh', u'Vera Mi...</td>\n",
              "    </tr>\n",
              "    <tr>\n",
              "      <th>Mystery</th>\n",
              "      <td>8.6</td>\n",
              "      <td>Rear Window</td>\n",
              "      <td>APPROVED</td>\n",
              "      <td>112</td>\n",
              "      <td>[u'James Stewart', u'Grace Kelly', u'Wendell C...</td>\n",
              "    </tr>\n",
              "    <tr>\n",
              "      <th>Sci-Fi</th>\n",
              "      <td>8.2</td>\n",
              "      <td>Blade Runner</td>\n",
              "      <td>R</td>\n",
              "      <td>117</td>\n",
              "      <td>[u'Harrison Ford', u'Rutger Hauer', u'Sean You...</td>\n",
              "    </tr>\n",
              "    <tr>\n",
              "      <th>Thriller</th>\n",
              "      <td>8.0</td>\n",
              "      <td>Shadow of a Doubt</td>\n",
              "      <td>APPROVED</td>\n",
              "      <td>108</td>\n",
              "      <td>[u'Teresa Wright', u'Joseph Cotten', u'Macdona...</td>\n",
              "    </tr>\n",
              "    <tr>\n",
              "      <th>Western</th>\n",
              "      <td>8.9</td>\n",
              "      <td>The Good, the Bad and the Ugly</td>\n",
              "      <td>NOT RATED</td>\n",
              "      <td>161</td>\n",
              "      <td>[u'Clint Eastwood', u'Eli Wallach', u'Lee Van ...</td>\n",
              "    </tr>\n",
              "  </tbody>\n",
              "</table>\n",
              "</div>"
            ],
            "text/plain": [
              "           star_rating  ...                                        actors_list\n",
              "genre                   ...                                                   \n",
              "Action             9.0  ...  [u'Christian Bale', u'Heath Ledger', u'Aaron E...\n",
              "Adventure          8.9  ...  [u'Elijah Wood', u'Viggo Mortensen', u'Ian McK...\n",
              "Animation          8.6  ...  [u'Daveigh Chase', u'Suzanne Pleshette', u'Miy...\n",
              "Biography          8.9  ...  [u'Liam Neeson', u'Ralph Fiennes', u'Ben Kings...\n",
              "Comedy             8.6  ...  [u'Roberto Benigni', u'Nicoletta Braschi', u'G...\n",
              "Crime              9.3  ...  [u'Tim Robbins', u'Morgan Freeman', u'Bob Gunt...\n",
              "Drama              8.9  ...  [u'Henry Fonda', u'Lee J. Cobb', u'Martin Bals...\n",
              "Family             7.9  ...  [u'Henry Thomas', u'Drew Barrymore', u'Peter C...\n",
              "Fantasy            7.7  ...  [u'Ron Perlman', u'Daniel Emilfork', u'Judith ...\n",
              "Film-Noir          8.3  ...  [u'Orson Welles', u'Joseph Cotten', u'Alida Va...\n",
              "History            8.0  ...  [u'Aleksandr Antonov', u'Vladimir Barsky', u'G...\n",
              "Horror             8.6  ...  [u'Anthony Perkins', u'Janet Leigh', u'Vera Mi...\n",
              "Mystery            8.6  ...  [u'James Stewart', u'Grace Kelly', u'Wendell C...\n",
              "Sci-Fi             8.2  ...  [u'Harrison Ford', u'Rutger Hauer', u'Sean You...\n",
              "Thriller           8.0  ...  [u'Teresa Wright', u'Joseph Cotten', u'Macdona...\n",
              "Western            8.9  ...  [u'Clint Eastwood', u'Eli Wallach', u'Lee Van ...\n",
              "\n",
              "[16 rows x 5 columns]"
            ]
          },
          "metadata": {
            "tags": []
          },
          "execution_count": 146
        }
      ]
    },
    {
      "cell_type": "code",
      "metadata": {
        "id": "WvEkP4znGnFZ",
        "colab": {
          "base_uri": "https://localhost:8080/",
          "height": 419
        },
        "outputId": "f21b32d7-25e4-4bf0-91dd-c5e21bec095b"
      },
      "source": [
        "# get crime movies group\r\n",
        "grouped.get_group('Crime')\r\n"
      ],
      "execution_count": 147,
      "outputs": [
        {
          "output_type": "execute_result",
          "data": {
            "text/html": [
              "<div>\n",
              "<style scoped>\n",
              "    .dataframe tbody tr th:only-of-type {\n",
              "        vertical-align: middle;\n",
              "    }\n",
              "\n",
              "    .dataframe tbody tr th {\n",
              "        vertical-align: top;\n",
              "    }\n",
              "\n",
              "    .dataframe thead th {\n",
              "        text-align: right;\n",
              "    }\n",
              "</style>\n",
              "<table border=\"1\" class=\"dataframe\">\n",
              "  <thead>\n",
              "    <tr style=\"text-align: right;\">\n",
              "      <th></th>\n",
              "      <th>star_rating</th>\n",
              "      <th>title</th>\n",
              "      <th>content_rating</th>\n",
              "      <th>duration</th>\n",
              "      <th>actors_list</th>\n",
              "    </tr>\n",
              "  </thead>\n",
              "  <tbody>\n",
              "    <tr>\n",
              "      <th>0</th>\n",
              "      <td>9.3</td>\n",
              "      <td>The Shawshank Redemption</td>\n",
              "      <td>R</td>\n",
              "      <td>142</td>\n",
              "      <td>[u'Tim Robbins', u'Morgan Freeman', u'Bob Gunt...</td>\n",
              "    </tr>\n",
              "    <tr>\n",
              "      <th>1</th>\n",
              "      <td>9.2</td>\n",
              "      <td>The Godfather</td>\n",
              "      <td>R</td>\n",
              "      <td>175</td>\n",
              "      <td>[u'Marlon Brando', u'Al Pacino', u'James Caan']</td>\n",
              "    </tr>\n",
              "    <tr>\n",
              "      <th>2</th>\n",
              "      <td>9.1</td>\n",
              "      <td>The Godfather: Part II</td>\n",
              "      <td>R</td>\n",
              "      <td>200</td>\n",
              "      <td>[u'Al Pacino', u'Robert De Niro', u'Robert Duv...</td>\n",
              "    </tr>\n",
              "    <tr>\n",
              "      <th>4</th>\n",
              "      <td>8.9</td>\n",
              "      <td>Pulp Fiction</td>\n",
              "      <td>R</td>\n",
              "      <td>154</td>\n",
              "      <td>[u'John Travolta', u'Uma Thurman', u'Samuel L....</td>\n",
              "    </tr>\n",
              "    <tr>\n",
              "      <th>21</th>\n",
              "      <td>8.7</td>\n",
              "      <td>City of God</td>\n",
              "      <td>R</td>\n",
              "      <td>130</td>\n",
              "      <td>[u'Alexandre Rodrigues', u'Matheus Nachtergael...</td>\n",
              "    </tr>\n",
              "    <tr>\n",
              "      <th>...</th>\n",
              "      <td>...</td>\n",
              "      <td>...</td>\n",
              "      <td>...</td>\n",
              "      <td>...</td>\n",
              "      <td>...</td>\n",
              "    </tr>\n",
              "    <tr>\n",
              "      <th>927</th>\n",
              "      <td>7.5</td>\n",
              "      <td>Brick</td>\n",
              "      <td>R</td>\n",
              "      <td>110</td>\n",
              "      <td>[u'Joseph Gordon-Levitt', u'Lukas Haas', u'Emi...</td>\n",
              "    </tr>\n",
              "    <tr>\n",
              "      <th>931</th>\n",
              "      <td>7.4</td>\n",
              "      <td>Mean Streets</td>\n",
              "      <td>R</td>\n",
              "      <td>112</td>\n",
              "      <td>[u'Robert De Niro', u'Harvey Keitel', u'David ...</td>\n",
              "    </tr>\n",
              "    <tr>\n",
              "      <th>950</th>\n",
              "      <td>7.4</td>\n",
              "      <td>Bound</td>\n",
              "      <td>R</td>\n",
              "      <td>108</td>\n",
              "      <td>[u'Jennifer Tilly', u'Gina Gershon', u'Joe Pan...</td>\n",
              "    </tr>\n",
              "    <tr>\n",
              "      <th>969</th>\n",
              "      <td>7.4</td>\n",
              "      <td>Law Abiding Citizen</td>\n",
              "      <td>R</td>\n",
              "      <td>109</td>\n",
              "      <td>[u'Gerard Butler', u'Jamie Foxx', u'Leslie Bibb']</td>\n",
              "    </tr>\n",
              "    <tr>\n",
              "      <th>978</th>\n",
              "      <td>7.4</td>\n",
              "      <td>Wall Street</td>\n",
              "      <td>R</td>\n",
              "      <td>126</td>\n",
              "      <td>[u'Charlie Sheen', u'Michael Douglas', u'Tamar...</td>\n",
              "    </tr>\n",
              "  </tbody>\n",
              "</table>\n",
              "<p>124 rows × 5 columns</p>\n",
              "</div>"
            ],
            "text/plain": [
              "     star_rating  ...                                        actors_list\n",
              "0            9.3  ...  [u'Tim Robbins', u'Morgan Freeman', u'Bob Gunt...\n",
              "1            9.2  ...    [u'Marlon Brando', u'Al Pacino', u'James Caan']\n",
              "2            9.1  ...  [u'Al Pacino', u'Robert De Niro', u'Robert Duv...\n",
              "4            8.9  ...  [u'John Travolta', u'Uma Thurman', u'Samuel L....\n",
              "21           8.7  ...  [u'Alexandre Rodrigues', u'Matheus Nachtergael...\n",
              "..           ...  ...                                                ...\n",
              "927          7.5  ...  [u'Joseph Gordon-Levitt', u'Lukas Haas', u'Emi...\n",
              "931          7.4  ...  [u'Robert De Niro', u'Harvey Keitel', u'David ...\n",
              "950          7.4  ...  [u'Jennifer Tilly', u'Gina Gershon', u'Joe Pan...\n",
              "969          7.4  ...  [u'Gerard Butler', u'Jamie Foxx', u'Leslie Bibb']\n",
              "978          7.4  ...  [u'Charlie Sheen', u'Michael Douglas', u'Tamar...\n",
              "\n",
              "[124 rows x 5 columns]"
            ]
          },
          "metadata": {
            "tags": []
          },
          "execution_count": 147
        }
      ]
    },
    {
      "cell_type": "code",
      "metadata": {
        "id": "jpxgs8wJGnFa",
        "colab": {
          "base_uri": "https://localhost:8080/"
        },
        "outputId": "f4ca5c53-17c3-411f-f1a5-493181b38569"
      },
      "source": [
        "# get mean of movie durations for each group\r\n",
        "grouped['duration'].mean()"
      ],
      "execution_count": 120,
      "outputs": [
        {
          "output_type": "execute_result",
          "data": {
            "text/plain": [
              "genre\n",
              "Action       126.485294\n",
              "Adventure    134.840000\n",
              "Animation     96.596774\n",
              "Biography    131.844156\n",
              "Comedy       107.602564\n",
              "Crime        122.298387\n",
              "Drama        126.539568\n",
              "Family       107.500000\n",
              "Fantasy      112.000000\n",
              "Film-Noir     97.333333\n",
              "History       66.000000\n",
              "Horror       102.517241\n",
              "Mystery      115.625000\n",
              "Sci-Fi       109.000000\n",
              "Thriller     114.200000\n",
              "Western      136.666667\n",
              "Name: duration, dtype: float64"
            ]
          },
          "metadata": {
            "tags": []
          },
          "execution_count": 120
        }
      ]
    },
    {
      "cell_type": "code",
      "metadata": {
        "id": "3JuRxRXEGnFa",
        "colab": {
          "base_uri": "https://localhost:8080/",
          "height": 204
        },
        "outputId": "d9afda36-1464-4a32-e234-85bce28d48fb"
      },
      "source": [
        "# change duration of all movies in a particular genre to mean duration of the group\r\n",
        "\r\n",
        "# df.loc[df['genre'] == 'Crime', 'duration'] = round(grouped.get_group('Crime')['duration'].mean(), 3)\r\n",
        "# df.head()\r\n",
        "df['duration'] = df.groupby('genre')['duration'].transform('mean').round(3)\r\n",
        "df.head()"
      ],
      "execution_count": 148,
      "outputs": [
        {
          "output_type": "execute_result",
          "data": {
            "text/html": [
              "<div>\n",
              "<style scoped>\n",
              "    .dataframe tbody tr th:only-of-type {\n",
              "        vertical-align: middle;\n",
              "    }\n",
              "\n",
              "    .dataframe tbody tr th {\n",
              "        vertical-align: top;\n",
              "    }\n",
              "\n",
              "    .dataframe thead th {\n",
              "        text-align: right;\n",
              "    }\n",
              "</style>\n",
              "<table border=\"1\" class=\"dataframe\">\n",
              "  <thead>\n",
              "    <tr style=\"text-align: right;\">\n",
              "      <th></th>\n",
              "      <th>star_rating</th>\n",
              "      <th>title</th>\n",
              "      <th>content_rating</th>\n",
              "      <th>genre</th>\n",
              "      <th>duration</th>\n",
              "      <th>actors_list</th>\n",
              "    </tr>\n",
              "  </thead>\n",
              "  <tbody>\n",
              "    <tr>\n",
              "      <th>0</th>\n",
              "      <td>9.3</td>\n",
              "      <td>The Shawshank Redemption</td>\n",
              "      <td>R</td>\n",
              "      <td>Crime</td>\n",
              "      <td>122.298</td>\n",
              "      <td>[u'Tim Robbins', u'Morgan Freeman', u'Bob Gunt...</td>\n",
              "    </tr>\n",
              "    <tr>\n",
              "      <th>1</th>\n",
              "      <td>9.2</td>\n",
              "      <td>The Godfather</td>\n",
              "      <td>R</td>\n",
              "      <td>Crime</td>\n",
              "      <td>122.298</td>\n",
              "      <td>[u'Marlon Brando', u'Al Pacino', u'James Caan']</td>\n",
              "    </tr>\n",
              "    <tr>\n",
              "      <th>2</th>\n",
              "      <td>9.1</td>\n",
              "      <td>The Godfather: Part II</td>\n",
              "      <td>R</td>\n",
              "      <td>Crime</td>\n",
              "      <td>122.298</td>\n",
              "      <td>[u'Al Pacino', u'Robert De Niro', u'Robert Duv...</td>\n",
              "    </tr>\n",
              "    <tr>\n",
              "      <th>3</th>\n",
              "      <td>9.0</td>\n",
              "      <td>The Dark Knight</td>\n",
              "      <td>PG-13</td>\n",
              "      <td>Action</td>\n",
              "      <td>126.485</td>\n",
              "      <td>[u'Christian Bale', u'Heath Ledger', u'Aaron E...</td>\n",
              "    </tr>\n",
              "    <tr>\n",
              "      <th>4</th>\n",
              "      <td>8.9</td>\n",
              "      <td>Pulp Fiction</td>\n",
              "      <td>R</td>\n",
              "      <td>Crime</td>\n",
              "      <td>122.298</td>\n",
              "      <td>[u'John Travolta', u'Uma Thurman', u'Samuel L....</td>\n",
              "    </tr>\n",
              "  </tbody>\n",
              "</table>\n",
              "</div>"
            ],
            "text/plain": [
              "   star_rating  ...                                        actors_list\n",
              "0          9.3  ...  [u'Tim Robbins', u'Morgan Freeman', u'Bob Gunt...\n",
              "1          9.2  ...    [u'Marlon Brando', u'Al Pacino', u'James Caan']\n",
              "2          9.1  ...  [u'Al Pacino', u'Robert De Niro', u'Robert Duv...\n",
              "3          9.0  ...  [u'Christian Bale', u'Heath Ledger', u'Aaron E...\n",
              "4          8.9  ...  [u'John Travolta', u'Uma Thurman', u'Samuel L....\n",
              "\n",
              "[5 rows x 6 columns]"
            ]
          },
          "metadata": {
            "tags": []
          },
          "execution_count": 148
        }
      ]
    },
    {
      "cell_type": "code",
      "metadata": {
        "id": "1OMbw9Y_GnFa",
        "colab": {
          "base_uri": "https://localhost:8080/",
          "height": 419
        },
        "outputId": "45c86f7b-c240-4c8a-fc12-7d7798584bd4"
      },
      "source": [
        "# drop groups/genres that do not have average movie duration greater than 120.\r\n",
        "# grouped['duration'].mean() > 120\r\n",
        "df.groupby('genre').filter(lambda group: group['duration'].mean() > 120)"
      ],
      "execution_count": 154,
      "outputs": [
        {
          "output_type": "execute_result",
          "data": {
            "text/html": [
              "<div>\n",
              "<style scoped>\n",
              "    .dataframe tbody tr th:only-of-type {\n",
              "        vertical-align: middle;\n",
              "    }\n",
              "\n",
              "    .dataframe tbody tr th {\n",
              "        vertical-align: top;\n",
              "    }\n",
              "\n",
              "    .dataframe thead th {\n",
              "        text-align: right;\n",
              "    }\n",
              "</style>\n",
              "<table border=\"1\" class=\"dataframe\">\n",
              "  <thead>\n",
              "    <tr style=\"text-align: right;\">\n",
              "      <th></th>\n",
              "      <th>star_rating</th>\n",
              "      <th>title</th>\n",
              "      <th>content_rating</th>\n",
              "      <th>genre</th>\n",
              "      <th>duration</th>\n",
              "      <th>actors_list</th>\n",
              "    </tr>\n",
              "  </thead>\n",
              "  <tbody>\n",
              "    <tr>\n",
              "      <th>0</th>\n",
              "      <td>9.3</td>\n",
              "      <td>The Shawshank Redemption</td>\n",
              "      <td>R</td>\n",
              "      <td>Crime</td>\n",
              "      <td>122.298</td>\n",
              "      <td>[u'Tim Robbins', u'Morgan Freeman', u'Bob Gunt...</td>\n",
              "    </tr>\n",
              "    <tr>\n",
              "      <th>1</th>\n",
              "      <td>9.2</td>\n",
              "      <td>The Godfather</td>\n",
              "      <td>R</td>\n",
              "      <td>Crime</td>\n",
              "      <td>122.298</td>\n",
              "      <td>[u'Marlon Brando', u'Al Pacino', u'James Caan']</td>\n",
              "    </tr>\n",
              "    <tr>\n",
              "      <th>2</th>\n",
              "      <td>9.1</td>\n",
              "      <td>The Godfather: Part II</td>\n",
              "      <td>R</td>\n",
              "      <td>Crime</td>\n",
              "      <td>122.298</td>\n",
              "      <td>[u'Al Pacino', u'Robert De Niro', u'Robert Duv...</td>\n",
              "    </tr>\n",
              "    <tr>\n",
              "      <th>3</th>\n",
              "      <td>9.0</td>\n",
              "      <td>The Dark Knight</td>\n",
              "      <td>PG-13</td>\n",
              "      <td>Action</td>\n",
              "      <td>126.485</td>\n",
              "      <td>[u'Christian Bale', u'Heath Ledger', u'Aaron E...</td>\n",
              "    </tr>\n",
              "    <tr>\n",
              "      <th>4</th>\n",
              "      <td>8.9</td>\n",
              "      <td>Pulp Fiction</td>\n",
              "      <td>R</td>\n",
              "      <td>Crime</td>\n",
              "      <td>122.298</td>\n",
              "      <td>[u'John Travolta', u'Uma Thurman', u'Samuel L....</td>\n",
              "    </tr>\n",
              "    <tr>\n",
              "      <th>...</th>\n",
              "      <td>...</td>\n",
              "      <td>...</td>\n",
              "      <td>...</td>\n",
              "      <td>...</td>\n",
              "      <td>...</td>\n",
              "      <td>...</td>\n",
              "    </tr>\n",
              "    <tr>\n",
              "      <th>972</th>\n",
              "      <td>7.4</td>\n",
              "      <td>Blue Valentine</td>\n",
              "      <td>NC-17</td>\n",
              "      <td>Drama</td>\n",
              "      <td>126.540</td>\n",
              "      <td>[u'Ryan Gosling', u'Michelle Williams', u'John...</td>\n",
              "    </tr>\n",
              "    <tr>\n",
              "      <th>973</th>\n",
              "      <td>7.4</td>\n",
              "      <td>The Cider House Rules</td>\n",
              "      <td>PG-13</td>\n",
              "      <td>Drama</td>\n",
              "      <td>126.540</td>\n",
              "      <td>[u'Tobey Maguire', u'Charlize Theron', u'Micha...</td>\n",
              "    </tr>\n",
              "    <tr>\n",
              "      <th>975</th>\n",
              "      <td>7.4</td>\n",
              "      <td>Back to the Future Part III</td>\n",
              "      <td>PG</td>\n",
              "      <td>Adventure</td>\n",
              "      <td>134.840</td>\n",
              "      <td>[u'Michael J. Fox', u'Christopher Lloyd', u'Ma...</td>\n",
              "    </tr>\n",
              "    <tr>\n",
              "      <th>976</th>\n",
              "      <td>7.4</td>\n",
              "      <td>Master and Commander: The Far Side of the World</td>\n",
              "      <td>PG-13</td>\n",
              "      <td>Action</td>\n",
              "      <td>126.485</td>\n",
              "      <td>[u'Russell Crowe', u'Paul Bettany', u'Billy Bo...</td>\n",
              "    </tr>\n",
              "    <tr>\n",
              "      <th>978</th>\n",
              "      <td>7.4</td>\n",
              "      <td>Wall Street</td>\n",
              "      <td>R</td>\n",
              "      <td>Crime</td>\n",
              "      <td>122.298</td>\n",
              "      <td>[u'Charlie Sheen', u'Michael Douglas', u'Tamar...</td>\n",
              "    </tr>\n",
              "  </tbody>\n",
              "</table>\n",
              "<p>699 rows × 6 columns</p>\n",
              "</div>"
            ],
            "text/plain": [
              "     star_rating  ...                                        actors_list\n",
              "0            9.3  ...  [u'Tim Robbins', u'Morgan Freeman', u'Bob Gunt...\n",
              "1            9.2  ...    [u'Marlon Brando', u'Al Pacino', u'James Caan']\n",
              "2            9.1  ...  [u'Al Pacino', u'Robert De Niro', u'Robert Duv...\n",
              "3            9.0  ...  [u'Christian Bale', u'Heath Ledger', u'Aaron E...\n",
              "4            8.9  ...  [u'John Travolta', u'Uma Thurman', u'Samuel L....\n",
              "..           ...  ...                                                ...\n",
              "972          7.4  ...  [u'Ryan Gosling', u'Michelle Williams', u'John...\n",
              "973          7.4  ...  [u'Tobey Maguire', u'Charlize Theron', u'Micha...\n",
              "975          7.4  ...  [u'Michael J. Fox', u'Christopher Lloyd', u'Ma...\n",
              "976          7.4  ...  [u'Russell Crowe', u'Paul Bettany', u'Billy Bo...\n",
              "978          7.4  ...  [u'Charlie Sheen', u'Michael Douglas', u'Tamar...\n",
              "\n",
              "[699 rows x 6 columns]"
            ]
          },
          "metadata": {
            "tags": []
          },
          "execution_count": 154
        }
      ]
    },
    {
      "cell_type": "code",
      "metadata": {
        "id": "i4oRXMxfGnFb",
        "colab": {
          "base_uri": "https://localhost:8080/",
          "height": 297
        },
        "outputId": "7900bae0-a107-4135-bbce-f0b902fd5eb7"
      },
      "source": [
        "# group weekday wise bikers count\r\n",
        "df1.groupby('weekday').first()"
      ],
      "execution_count": 155,
      "outputs": [
        {
          "output_type": "execute_result",
          "data": {
            "text/html": [
              "<div>\n",
              "<style scoped>\n",
              "    .dataframe tbody tr th:only-of-type {\n",
              "        vertical-align: middle;\n",
              "    }\n",
              "\n",
              "    .dataframe tbody tr th {\n",
              "        vertical-align: top;\n",
              "    }\n",
              "\n",
              "    .dataframe thead th {\n",
              "        text-align: right;\n",
              "    }\n",
              "</style>\n",
              "<table border=\"1\" class=\"dataframe\">\n",
              "  <thead>\n",
              "    <tr style=\"text-align: right;\">\n",
              "      <th></th>\n",
              "      <th>Unnamed: 1</th>\n",
              "      <th>Rachel / Papineau</th>\n",
              "      <th>Berri1</th>\n",
              "      <th>Maisonneuve_2</th>\n",
              "      <th>Maisonneuve_1</th>\n",
              "      <th>Brébeuf</th>\n",
              "      <th>Parc</th>\n",
              "      <th>PierDup</th>\n",
              "      <th>CSC (Côte Sainte-Catherine)</th>\n",
              "      <th>Pont_Jacques_Cartier</th>\n",
              "    </tr>\n",
              "    <tr>\n",
              "      <th>weekday</th>\n",
              "      <th></th>\n",
              "      <th></th>\n",
              "      <th></th>\n",
              "      <th></th>\n",
              "      <th></th>\n",
              "      <th></th>\n",
              "      <th></th>\n",
              "      <th></th>\n",
              "      <th></th>\n",
              "      <th></th>\n",
              "    </tr>\n",
              "  </thead>\n",
              "  <tbody>\n",
              "    <tr>\n",
              "      <th>0</th>\n",
              "      <td>00:00</td>\n",
              "      <td>43</td>\n",
              "      <td>83</td>\n",
              "      <td>153</td>\n",
              "      <td>68</td>\n",
              "      <td>11.0</td>\n",
              "      <td>53</td>\n",
              "      <td>6</td>\n",
              "      <td>1</td>\n",
              "      <td>21.0</td>\n",
              "    </tr>\n",
              "    <tr>\n",
              "      <th>1</th>\n",
              "      <td>00:00</td>\n",
              "      <td>58</td>\n",
              "      <td>135</td>\n",
              "      <td>248</td>\n",
              "      <td>104</td>\n",
              "      <td>2.0</td>\n",
              "      <td>89</td>\n",
              "      <td>3</td>\n",
              "      <td>2</td>\n",
              "      <td>15.0</td>\n",
              "    </tr>\n",
              "    <tr>\n",
              "      <th>2</th>\n",
              "      <td>00:00</td>\n",
              "      <td>61</td>\n",
              "      <td>144</td>\n",
              "      <td>318</td>\n",
              "      <td>116</td>\n",
              "      <td>2.0</td>\n",
              "      <td>111</td>\n",
              "      <td>8</td>\n",
              "      <td>1</td>\n",
              "      <td>19.0</td>\n",
              "    </tr>\n",
              "    <tr>\n",
              "      <th>3</th>\n",
              "      <td>00:00</td>\n",
              "      <td>95</td>\n",
              "      <td>197</td>\n",
              "      <td>330</td>\n",
              "      <td>124</td>\n",
              "      <td>6.0</td>\n",
              "      <td>97</td>\n",
              "      <td>13</td>\n",
              "      <td>2</td>\n",
              "      <td>16.0</td>\n",
              "    </tr>\n",
              "    <tr>\n",
              "      <th>4</th>\n",
              "      <td>00:00</td>\n",
              "      <td>75</td>\n",
              "      <td>146</td>\n",
              "      <td>244</td>\n",
              "      <td>98</td>\n",
              "      <td>4.0</td>\n",
              "      <td>86</td>\n",
              "      <td>4</td>\n",
              "      <td>0</td>\n",
              "      <td>17.0</td>\n",
              "    </tr>\n",
              "    <tr>\n",
              "      <th>5</th>\n",
              "      <td>00:00</td>\n",
              "      <td>54</td>\n",
              "      <td>98</td>\n",
              "      <td>108</td>\n",
              "      <td>80</td>\n",
              "      <td>5.0</td>\n",
              "      <td>53</td>\n",
              "      <td>6</td>\n",
              "      <td>2</td>\n",
              "      <td>9.0</td>\n",
              "    </tr>\n",
              "    <tr>\n",
              "      <th>6</th>\n",
              "      <td>00:00</td>\n",
              "      <td>16</td>\n",
              "      <td>35</td>\n",
              "      <td>51</td>\n",
              "      <td>38</td>\n",
              "      <td>5.0</td>\n",
              "      <td>26</td>\n",
              "      <td>10</td>\n",
              "      <td>0</td>\n",
              "      <td>27.0</td>\n",
              "    </tr>\n",
              "  </tbody>\n",
              "</table>\n",
              "</div>"
            ],
            "text/plain": [
              "        Unnamed: 1  ...  Pont_Jacques_Cartier\n",
              "weekday             ...                      \n",
              "0            00:00  ...                  21.0\n",
              "1            00:00  ...                  15.0\n",
              "2            00:00  ...                  19.0\n",
              "3            00:00  ...                  16.0\n",
              "4            00:00  ...                  17.0\n",
              "5            00:00  ...                   9.0\n",
              "6            00:00  ...                  27.0\n",
              "\n",
              "[7 rows x 10 columns]"
            ]
          },
          "metadata": {
            "tags": []
          },
          "execution_count": 155
        }
      ]
    },
    {
      "cell_type": "code",
      "metadata": {
        "id": "d-uvbGlGGnFb",
        "colab": {
          "base_uri": "https://localhost:8080/",
          "height": 297
        },
        "outputId": "8bfd48ad-3667-40d2-bfe8-0ee8e3077d19"
      },
      "source": [
        "# get weekday wise biker count\r\n",
        "df1.groupby('weekday').sum()"
      ],
      "execution_count": 157,
      "outputs": [
        {
          "output_type": "execute_result",
          "data": {
            "text/html": [
              "<div>\n",
              "<style scoped>\n",
              "    .dataframe tbody tr th:only-of-type {\n",
              "        vertical-align: middle;\n",
              "    }\n",
              "\n",
              "    .dataframe tbody tr th {\n",
              "        vertical-align: top;\n",
              "    }\n",
              "\n",
              "    .dataframe thead th {\n",
              "        text-align: right;\n",
              "    }\n",
              "</style>\n",
              "<table border=\"1\" class=\"dataframe\">\n",
              "  <thead>\n",
              "    <tr style=\"text-align: right;\">\n",
              "      <th></th>\n",
              "      <th>Rachel / Papineau</th>\n",
              "      <th>Berri1</th>\n",
              "      <th>Maisonneuve_2</th>\n",
              "      <th>Maisonneuve_1</th>\n",
              "      <th>Brébeuf</th>\n",
              "      <th>Parc</th>\n",
              "      <th>PierDup</th>\n",
              "      <th>CSC (Côte Sainte-Catherine)</th>\n",
              "      <th>Pont_Jacques_Cartier</th>\n",
              "    </tr>\n",
              "    <tr>\n",
              "      <th>weekday</th>\n",
              "      <th></th>\n",
              "      <th></th>\n",
              "      <th></th>\n",
              "      <th></th>\n",
              "      <th></th>\n",
              "      <th></th>\n",
              "      <th></th>\n",
              "      <th></th>\n",
              "      <th></th>\n",
              "    </tr>\n",
              "  </thead>\n",
              "  <tbody>\n",
              "    <tr>\n",
              "      <th>0</th>\n",
              "      <td>138881</td>\n",
              "      <td>142285</td>\n",
              "      <td>174610</td>\n",
              "      <td>95565</td>\n",
              "      <td>15436.0</td>\n",
              "      <td>97001</td>\n",
              "      <td>47259</td>\n",
              "      <td>64011</td>\n",
              "      <td>74692.0</td>\n",
              "    </tr>\n",
              "    <tr>\n",
              "      <th>1</th>\n",
              "      <td>131632</td>\n",
              "      <td>145795</td>\n",
              "      <td>179939</td>\n",
              "      <td>99421</td>\n",
              "      <td>10629.0</td>\n",
              "      <td>100007</td>\n",
              "      <td>35901</td>\n",
              "      <td>63503</td>\n",
              "      <td>53552.0</td>\n",
              "    </tr>\n",
              "    <tr>\n",
              "      <th>2</th>\n",
              "      <td>144531</td>\n",
              "      <td>163603</td>\n",
              "      <td>200273</td>\n",
              "      <td>112344</td>\n",
              "      <td>14876.0</td>\n",
              "      <td>110820</td>\n",
              "      <td>44045</td>\n",
              "      <td>72047</td>\n",
              "      <td>63472.0</td>\n",
              "    </tr>\n",
              "    <tr>\n",
              "      <th>3</th>\n",
              "      <td>150971</td>\n",
              "      <td>169976</td>\n",
              "      <td>210039</td>\n",
              "      <td>118633</td>\n",
              "      <td>15679.0</td>\n",
              "      <td>113675</td>\n",
              "      <td>46117</td>\n",
              "      <td>73215</td>\n",
              "      <td>62174.0</td>\n",
              "    </tr>\n",
              "    <tr>\n",
              "      <th>4</th>\n",
              "      <td>146979</td>\n",
              "      <td>150493</td>\n",
              "      <td>183961</td>\n",
              "      <td>104584</td>\n",
              "      <td>12259.0</td>\n",
              "      <td>96569</td>\n",
              "      <td>43217</td>\n",
              "      <td>59856</td>\n",
              "      <td>62164.0</td>\n",
              "    </tr>\n",
              "    <tr>\n",
              "      <th>5</th>\n",
              "      <td>118560</td>\n",
              "      <td>105635</td>\n",
              "      <td>109902</td>\n",
              "      <td>64872</td>\n",
              "      <td>11170.0</td>\n",
              "      <td>51019</td>\n",
              "      <td>53360</td>\n",
              "      <td>35507</td>\n",
              "      <td>54493.0</td>\n",
              "    </tr>\n",
              "    <tr>\n",
              "      <th>6</th>\n",
              "      <td>122115</td>\n",
              "      <td>102447</td>\n",
              "      <td>102272</td>\n",
              "      <td>57438</td>\n",
              "      <td>12032.0</td>\n",
              "      <td>52419</td>\n",
              "      <td>62070</td>\n",
              "      <td>37867</td>\n",
              "      <td>84638.0</td>\n",
              "    </tr>\n",
              "  </tbody>\n",
              "</table>\n",
              "</div>"
            ],
            "text/plain": [
              "         Rachel / Papineau  ...  Pont_Jacques_Cartier\n",
              "weekday                     ...                      \n",
              "0                   138881  ...               74692.0\n",
              "1                   131632  ...               53552.0\n",
              "2                   144531  ...               63472.0\n",
              "3                   150971  ...               62174.0\n",
              "4                   146979  ...               62164.0\n",
              "5                   118560  ...               54493.0\n",
              "6                   122115  ...               84638.0\n",
              "\n",
              "[7 rows x 9 columns]"
            ]
          },
          "metadata": {
            "tags": []
          },
          "execution_count": 157
        }
      ]
    },
    {
      "cell_type": "code",
      "metadata": {
        "id": "VUwctYi4GnFb",
        "colab": {
          "base_uri": "https://localhost:8080/",
          "height": 302
        },
        "outputId": "dc8e3d5e-0cef-4bd3-a66e-104ec2eb874a"
      },
      "source": [
        "# plot weekday wise biker count for 'Berri1'\r\n",
        "df1.groupby('weekday')['Berri1'].sum().plot()"
      ],
      "execution_count": 171,
      "outputs": [
        {
          "output_type": "execute_result",
          "data": {
            "text/plain": [
              "<matplotlib.axes._subplots.AxesSubplot at 0x7f9b1b1cc588>"
            ]
          },
          "metadata": {
            "tags": []
          },
          "execution_count": 171
        },
        {
          "output_type": "display_data",
          "data": {
            "image/png": "[encoded data removed]",
            "text/plain": [
              "<Figure size 432x288 with 1 Axes>"
            ]
          },
          "metadata": {
            "tags": []
          }
        }
      ]
    },
    {
      "cell_type": "markdown",
      "metadata": {
        "id": "B4JnuJtYGnFb"
      },
      "source": [
        "![](https://memegenerator.net/img/instances/500x/73988569/pythonpandas-is-easy-import-and-go.jpg)"
      ]
    }
  ]
}