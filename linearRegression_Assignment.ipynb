{
  "nbformat": 4,
  "nbformat_minor": 0,
  "metadata": {
    "colab": {
      "name": "linearRegression_Assignment.ipynb",
      "provenance": [],
      "mount_file_id": "1_KnBeBYYuzFImUA2eibPLv7l8AcVn20P",
      "authorship_tag": "ABX9TyMUHxqF6hKvVxDrDtUPGxsl",
      "include_colab_link": true
    },
    "kernelspec": {
      "name": "python3",
      "display_name": "Python 3"
    }
  },
  "cells": [
    {
      "cell_type": "markdown",
      "metadata": {
        "id": "view-in-github",
        "colab_type": "text"
      },
      "source": [
        "<a href=\"https://colab.research.google.com/github/GSVarsha/AI-Mafia-Machine-Learning/blob/main/linearRegression_Assignment.ipynb\" target=\"_parent\"><img src=\"https://colab.research.google.com/assets/colab-badge.svg\" alt=\"Open In Colab\"/></a>"
      ]
    },
    {
      "cell_type": "markdown",
      "metadata": {
        "id": "vtMaLMGX9B_V"
      },
      "source": [
        "# Assignment 1 (without sklearn)"
      ]
    },
    {
      "cell_type": "code",
      "metadata": {
        "id": "dXQzxyr9hIOM"
      },
      "source": [
        "import numpy as np\r\n",
        "import pandas as pd\r\n",
        "import matplotlib.pyplot as plt"
      ],
      "execution_count": null,
      "outputs": []
    },
    {
      "cell_type": "code",
      "metadata": {
        "id": "_0dUjWtdhYVP"
      },
      "source": [
        "df_x = pd.read_csv('/content/drive/MyDrive/ML: Codes and Assignments/Week 2 - Assignments (Linear and Logistic Regression)/Linear Regression/Assignment 1/Training Data/Linear_X_Train.csv')"
      ],
      "execution_count": null,
      "outputs": []
    },
    {
      "cell_type": "code",
      "metadata": {
        "id": "pcvtOKiZiBge"
      },
      "source": [
        "df_y = pd.read_csv('/content/drive/MyDrive/ML: Codes and Assignments/Week 2 - Assignments (Linear and Logistic Regression)/Linear Regression/Assignment 1/Training Data/Linear_Y_Train.csv')"
      ],
      "execution_count": null,
      "outputs": []
    },
    {
      "cell_type": "code",
      "metadata": {
        "colab": {
          "base_uri": "https://localhost:8080/"
        },
        "id": "7WB_XtcliJzo",
        "outputId": "0b8953de-9fba-4a2b-e9ab-75e929911a1c"
      },
      "source": [
        "x = df_x.values.flatten()\r\n",
        "y = df_y.values.flatten()\r\n",
        "print(x.shape, y.shape)"
      ],
      "execution_count": null,
      "outputs": [
        {
          "output_type": "stream",
          "text": [
            "(3750,) (3750,)\n"
          ],
          "name": "stdout"
        }
      ]
    },
    {
      "cell_type": "code",
      "metadata": {
        "colab": {
          "base_uri": "https://localhost:8080/",
          "height": 283
        },
        "id": "KKreoOS3iO9J",
        "outputId": "b2603807-431e-4e01-80ea-8693fb3410d3"
      },
      "source": [
        "import seaborn as sns\r\n",
        "sns.set()\r\n",
        "#plt.scatter(x, y)\r\n",
        "x = (x - x.mean())/ x.std()\r\n",
        "plt.scatter(x, y)\r\n",
        "# plt.figure(figsize=(16, 8))"
      ],
      "execution_count": null,
      "outputs": [
        {
          "output_type": "execute_result",
          "data": {
            "text/plain": [
              "<matplotlib.collections.PathCollection at 0x7f4e0e8f60f0>"
            ]
          },
          "metadata": {
            "tags": []
          },
          "execution_count": 139
        },
        {
          "output_type": "display_data",
          "data": {
            "image/png": "[encoded data removed]",
            "text/plain": [
              "<Figure size 432x288 with 1 Axes>"
            ]
          },
          "metadata": {
            "tags": []
          }
        }
      ]
    },
    {
      "cell_type": "code",
      "metadata": {
        "id": "Bt-a0D7HjFBa"
      },
      "source": [
        "def hypothesis(x, theta):\r\n",
        "  return theta[0] + theta[1]*x # mx + c\r\n",
        "\r\n",
        "def error(x, y, theta):\r\n",
        "  m = x.shape[0]\r\n",
        "  err = 0.0\r\n",
        "  for i in range(m):\r\n",
        "    hx = hypothesis(x[i], theta)\r\n",
        "    err += (hx - y[i])**2\r\n",
        "  return err/(2*m)"
      ],
      "execution_count": null,
      "outputs": []
    },
    {
      "cell_type": "code",
      "metadata": {
        "id": "tAX8zy1aj96f"
      },
      "source": [
        "def gradient(x, y, theta):\r\n",
        "  grad = np.zeros((2,))   #grad --> dJ/dtheta\r\n",
        "  m = x.shape[0]\r\n",
        "  for i in range(m):\r\n",
        "    hx = hypothesis(x[i], theta)\r\n",
        "    grad[0] += (hx - y[i]) #dJ/dtheta[0]\r\n",
        "    grad[1] += (hx - y[i])*x[i] #dJ/dtheta[1]\r\n",
        "  return grad/m\r\n",
        "\r\n",
        "def gradientDescent(x, y, learning_rate = 0.01):\r\n",
        "  #random theta\r\n",
        "  theta = np.array([-3.0, 0.0])\r\n",
        "\r\n",
        "  max_iteration = 1000\r\n",
        "\r\n",
        "  err_list = []\r\n",
        "  theta_list = []\r\n",
        "\r\n",
        "  for iter in range(max_iteration):\r\n",
        "    grad = gradient(x, y, theta)\r\n",
        "    err = error(x, y, theta)\r\n",
        "    \r\n",
        "    err_list.append(err)\r\n",
        "    theta_list.append(theta)\r\n",
        "\r\n",
        "    theta[0] -= learning_rate * grad[0]\r\n",
        "    theta[1] -= learning_rate * grad[1]\r\n",
        "\r\n",
        "  return theta, err_list, theta_list"
      ],
      "execution_count": null,
      "outputs": []
    },
    {
      "cell_type": "code",
      "metadata": {
        "colab": {
          "base_uri": "https://localhost:8080/",
          "height": 283
        },
        "id": "tZU81tflpC_7",
        "outputId": "9d8a3526-8965-426c-e5a1-dc83da0b2a46"
      },
      "source": [
        "final_theta, err_list, theta_list = gradientDescent(x, y)\r\n",
        "plt.plot(err_list)"
      ],
      "execution_count": null,
      "outputs": [
        {
          "output_type": "execute_result",
          "data": {
            "text/plain": [
              "[<matplotlib.lines.Line2D at 0x7f4e11fd80b8>]"
            ]
          },
          "metadata": {
            "tags": []
          },
          "execution_count": 118
        },
        {
          "output_type": "display_data",
          "data": {
            "image/png": "[encoded data removed]",
            "text/plain": [
              "<Figure size 432x288 with 1 Axes>"
            ]
          },
          "metadata": {
            "tags": []
          }
        }
      ]
    },
    {
      "cell_type": "code",
      "metadata": {
        "colab": {
          "base_uri": "https://localhost:8080/"
        },
        "id": "yCj8zzvvqud_",
        "outputId": "e2a8e130-9448-4220-9f26-487ed7580575"
      },
      "source": [
        "final_theta"
      ],
      "execution_count": null,
      "outputs": [
        {
          "output_type": "execute_result",
          "data": {
            "text/plain": [
              "array([ 0.68370993, 79.90228731])"
            ]
          },
          "metadata": {
            "tags": []
          },
          "execution_count": 123
        }
      ]
    },
    {
      "cell_type": "code",
      "metadata": {
        "colab": {
          "base_uri": "https://localhost:8080/",
          "height": 285
        },
        "id": "yexPUTKvr_23",
        "outputId": "d8902a4c-fa21-42f4-a7cd-8fe2355918a1"
      },
      "source": [
        "plt.scatter(x,y, label='Training Data', color='orange')\r\n",
        "plt.plot(x, hypothesis(x, final_theta), color='red', label='Training prediction')\r\n",
        "plt.legend()"
      ],
      "execution_count": null,
      "outputs": [
        {
          "output_type": "execute_result",
          "data": {
            "text/plain": [
              "<matplotlib.legend.Legend at 0x7f4e11f68f60>"
            ]
          },
          "metadata": {
            "tags": []
          },
          "execution_count": 121
        },
        {
          "output_type": "display_data",
          "data": {
            "image/png": "[encoded data removed]",
            "text/plain": [
              "<Figure size 432x288 with 1 Axes>"
            ]
          },
          "metadata": {
            "tags": []
          }
        }
      ]
    },
    {
      "cell_type": "code",
      "metadata": {
        "colab": {
          "base_uri": "https://localhost:8080/",
          "height": 285
        },
        "id": "V5plr5dqtG7B",
        "outputId": "3257d162-8b7c-46f4-b35e-b71df64a76f1"
      },
      "source": [
        "df_x_test = pd.read_csv('/content/drive/MyDrive/ML: Codes and Assignments/Week 2 - Assignments (Linear and Logistic Regression)/Linear Regression/Assignment 1/Testing Data/Linear_X_Test.csv')\r\n",
        "x_test = df_x_test.values.flatten()\r\n",
        "\r\n",
        "plt.scatter(x, y, label='Training Data', color='orange')\r\n",
        "plt.plot(x_test, hypothesis(x_test, final_theta), color='red', label='Testing prediction')\r\n",
        "plt.legend()"
      ],
      "execution_count": null,
      "outputs": [
        {
          "output_type": "execute_result",
          "data": {
            "text/plain": [
              "<matplotlib.legend.Legend at 0x7f4e11e22e10>"
            ]
          },
          "metadata": {
            "tags": []
          },
          "execution_count": 122
        },
        {
          "output_type": "display_data",
          "data": {
            "image/png": "[encoded data removed]",
            "text/plain": [
              "<Figure size 432x288 with 1 Axes>"
            ]
          },
          "metadata": {
            "tags": []
          }
        }
      ]
    },
    {
      "cell_type": "markdown",
      "metadata": {
        "id": "KDv80hi39LBr"
      },
      "source": [
        "# Assignment 2 (with sklearn)"
      ]
    },
    {
      "cell_type": "code",
      "metadata": {
        "id": "TDyvHsDs_GKs"
      },
      "source": [
        "import numpy as np\r\n",
        "import pandas as pd\r\n",
        "import matplotlib.pyplot as plt\r\n",
        "import seaborn as sns\r\n",
        "sns.set()"
      ],
      "execution_count": null,
      "outputs": []
    },
    {
      "cell_type": "code",
      "metadata": {
        "id": "mjXMdLzo__jP"
      },
      "source": [
        "train_df = pd.read_csv('/content/drive/MyDrive/ML: Codes and Assignments/Week 2 - Assignments (Linear and Logistic Regression)/Linear Regression/Assignment 2/Training Data/Train.csv')\r\n",
        "test_df = pd.read_csv('/content/drive/MyDrive/ML: Codes and Assignments/Week 2 - Assignments (Linear and Logistic Regression)/Linear Regression/Assignment 2/Testing Data/Test.csv')"
      ],
      "execution_count": null,
      "outputs": []
    },
    {
      "cell_type": "code",
      "metadata": {
        "id": "Bo8QjyrEAN8e"
      },
      "source": [
        "trainData = train_df.iloc[:, :-1]\r\n",
        "trainLabels = train_df.iloc[:, -1]\r\n",
        "testData = test_df"
      ],
      "execution_count": null,
      "outputs": []
    },
    {
      "cell_type": "code",
      "metadata": {
        "colab": {
          "base_uri": "https://localhost:8080/"
        },
        "id": "0IbmmqUZAPIk",
        "outputId": "10815959-0748-4490-cec2-4b13deee0d5e"
      },
      "source": [
        "from sklearn.linear_model import LinearRegression\r\n",
        "\r\n",
        "model = LinearRegression()\r\n",
        "\r\n",
        "#Train\r\n",
        "model.fit(trainData, trainLabels)\r\n",
        "#predict\r\n",
        "predictions = model.predict(testData)\r\n",
        "\r\n",
        "#bias/ intercept/ c\r\n",
        "c = model.intercept_\r\n",
        "#slope/ coeff\r\n",
        "m = model.coef_\r\n",
        "\r\n",
        "print(m, c)"
      ],
      "execution_count": null,
      "outputs": [
        {
          "output_type": "stream",
          "text": [
            "[29.68187118 92.66247759  8.28062089 44.76773522  2.51916121] 4.990966735574954\n"
          ],
          "name": "stdout"
        }
      ]
    },
    {
      "cell_type": "code",
      "metadata": {
        "colab": {
          "base_uri": "https://localhost:8080/"
        },
        "id": "j_irHom-DLoS",
        "outputId": "8d6dd4c8-5d07-4102-d38c-081825f235b9"
      },
      "source": [
        "model.score(trainData, trainLabels)"
      ],
      "execution_count": null,
      "outputs": [
        {
          "output_type": "execute_result",
          "data": {
            "text/plain": [
              "0.9660939669975616"
            ]
          },
          "metadata": {
            "tags": []
          },
          "execution_count": 137
        }
      ]
    }
  ]
}